{
 "cells": [
  {
   "cell_type": "code",
   "execution_count": 49,
   "metadata": {},
   "outputs": [],
   "source": [
    "import pandas as pd\n",
    "import numpy as np\n",
    "import scipy.stats as stats\n",
    "\n",
    "#import dataframe\n",
    "df = pd.read_excel('/Users/rayhowanski/Documents/Data Science/Bioinformatics/20201117_12009_Data_Volcano plots.xlsx',\n",
    "                  sheet_name='Blood Vs LN',\n",
    "                  skiprows=(1,2))\n",
    "#clean up gene column\n",
    "df.rename(columns={ df.columns[0]: \"Gene\" }, inplace = True)\n",
    "df['Gene'] = df['Gene'].astype(str).str.replace('-mRNA', '')\n",
    "\n",
    "stat = df.copy()"
   ]
  },
  {
   "cell_type": "code",
   "execution_count": null,
   "metadata": {},
   "outputs": [],
   "source": []
  },
  {
   "cell_type": "code",
   "execution_count": 50,
   "metadata": {},
   "outputs": [],
   "source": [
    "#extract blood data\n",
    "blood = df.iloc[:, 1:4]\n",
    "blood['mean'] = blood.mean(axis=1)\n",
    "blood['std']=blood.iloc[:,0:3].std(axis=1)\n",
    "LN = df.iloc[:,4:7]\n",
    "LN['mean'] = LN.mean(axis=1)\n",
    "LN['std']=LN.iloc[:,0:3].std(axis=1)\n"
   ]
  },
  {
   "cell_type": "code",
   "execution_count": 51,
   "metadata": {},
   "outputs": [],
   "source": [
    "#calculate log2 of fold change, just to visualize data\n",
    "df['FC']=blood['mean'] / LN['mean']\n",
    "log2_FC = df['FC'].to_numpy()\n",
    "df['log2_FC']=np.log2(log2_FC)"
   ]
  },
  {
   "cell_type": "code",
   "execution_count": 53,
   "metadata": {},
   "outputs": [],
   "source": [
    "#take the second to last string in column name between '-' to call column Blood, LN, etc\n",
    "stat.columns = stat.columns.str.split('-').str[-2]\n",
    "stat.rename(columns={ stat.columns[0]: \"Gene\" }, inplace = True)"
   ]
  },
  {
   "cell_type": "code",
   "execution_count": 54,
   "metadata": {},
   "outputs": [],
   "source": [
    "#melt df based on sample type variable\n",
    "stat_melt = pd.melt(stat, id_vars=['Gene'], value_vars=['Blood','LN'])"
   ]
  },
  {
   "cell_type": "code",
   "execution_count": 67,
   "metadata": {},
   "outputs": [],
   "source": [
    "#statistical analysis\n",
    "def get_ttest(x,y,sided=1):\n",
    "    return stats.ttest_ind(x, y, equal_var=False).pvalue/sided\n",
    "\n",
    "df =stat_melt\n",
    "\n",
    "groupby = 'Gene'\n",
    "test_control = 'variable'\n",
    "effect = 'value'\n",
    "\n",
    "a,b = df[test_control].unique()\n",
    "\n",
    "df_pval = df.groupby([groupby,test_control])\\\n",
    "            [effect].agg(['size','mean']).unstack(test_control)\n",
    "\n",
    "df_pval.columns = [f'group{a}_size',f'group{b}_size',\n",
    "                   f'group{a}_mean',f'group{b}_mean']\n",
    "\n",
    "df_pval['pvalue'] = df.groupby(groupby).apply(lambda dfx: get_ttest(\n",
    "    dfx.loc[dfx[test_control] == a, effect],\n",
    "    dfx.loc[dfx[test_control] == b, effect]))"
   ]
  },
  {
   "cell_type": "code",
   "execution_count": 68,
   "metadata": {},
   "outputs": [],
   "source": [
    "df_pval['FC'] = df_pval['groupBlood_mean'] / df_pval['groupLN_mean']\n",
    "log2_FC = df_pval['FC'].to_numpy()\n",
    "df_pval['log2_FC'] = np.log2(log2_FC)"
   ]
  },
  {
   "cell_type": "code",
   "execution_count": 69,
   "metadata": {},
   "outputs": [],
   "source": [
    "log10_p = df_pval['pvalue'].to_numpy()\n",
    "df_pval['log10_p'] = (np.log10(log10_p))*(-1)"
   ]
  },
  {
   "cell_type": "code",
   "execution_count": 70,
   "metadata": {},
   "outputs": [],
   "source": [
    "vol = df_pval.copy().reset_index()\n",
    "#vol.to_excel('/Volumes/LabData/Utilities/Blood_v_LN_data_input.xlsx')"
   ]
  },
  {
   "cell_type": "code",
   "execution_count": 88,
   "metadata": {},
   "outputs": [],
   "source": [
    "vol['Label']=''"
   ]
  },
  {
   "cell_type": "code",
   "execution_count": 89,
   "metadata": {},
   "outputs": [],
   "source": [
    "vol['Gene_Regulation']='Not Significant'\n",
    "vol.loc[vol.log2_FC > 1.5, 'Gene_Regulation'] = 'Up Regulated'\n",
    "vol.loc[vol.log2_FC < -1.5, 'Gene_Regulation'] = 'Down Regulated'"
   ]
  },
  {
   "cell_type": "code",
   "execution_count": 90,
   "metadata": {},
   "outputs": [],
   "source": [
    "vol.loc[vol.log10_p < 1.5, 'Gene_Regulation'] = 'Not Significant'"
   ]
  },
  {
   "cell_type": "code",
   "execution_count": 91,
   "metadata": {},
   "outputs": [],
   "source": [
    "vol.loc[vol.Gene_Regulation == 'Up Regulated', 'Label'] = vol['Gene']"
   ]
  },
  {
   "cell_type": "code",
   "execution_count": 92,
   "metadata": {},
   "outputs": [],
   "source": [
    "vol.loc[vol.Gene_Regulation == 'Down Regulated', 'Label'] = vol['Gene']"
   ]
  },
  {
   "cell_type": "code",
   "execution_count": 93,
   "metadata": {},
   "outputs": [
    {
     "data": {
      "application/vnd.plotly.v1+json": {
       "config": {
        "plotlyServerURL": "https://plot.ly"
       },
       "data": [
        {
         "customdata": [
          [
           "A2M"
          ],
          [
           "ACVR1C"
          ],
          [
           "ADAM12"
          ],
          [
           "ADGRE1"
          ],
          [
           "ADM"
          ],
          [
           "ADORA2A"
          ],
          [
           "AKT1"
          ],
          [
           "ALDOA"
          ],
          [
           "ALDOC"
          ],
          [
           "ANGPT1"
          ],
          [
           "ANGPT2"
          ],
          [
           "ANGPTL4"
          ],
          [
           "ANLN"
          ],
          [
           "APC"
          ],
          [
           "APH1B"
          ],
          [
           "API5"
          ],
          [
           "APLNR"
          ],
          [
           "APOE"
          ],
          [
           "APOL6"
          ],
          [
           "AREG"
          ],
          [
           "ARG1"
          ],
          [
           "ARG2"
          ],
          [
           "ARID1A"
          ],
          [
           "ARNT2"
          ],
          [
           "ATF3"
          ],
          [
           "ATM"
          ],
          [
           "AXIN1"
          ],
          [
           "AXL"
          ],
          [
           "B2M"
          ],
          [
           "BAD"
          ],
          [
           "BAMBI"
          ],
          [
           "BATF3"
          ],
          [
           "BAX"
          ],
          [
           "BBC3"
          ],
          [
           "BBS1"
          ],
          [
           "BCAT1"
          ],
          [
           "BCL2"
          ],
          [
           "BCL2L1"
          ],
          [
           "BCL6B"
          ],
          [
           "BID"
          ],
          [
           "BIRC3"
          ],
          [
           "BIRC5"
          ],
          [
           "BLK"
          ],
          [
           "BLM"
          ],
          [
           "BMP2"
          ],
          [
           "BNIP3"
          ],
          [
           "BNIP3L"
          ],
          [
           "BRCA1"
          ],
          [
           "BRCA2"
          ],
          [
           "BRD3"
          ],
          [
           "BRD4"
          ],
          [
           "BRIP1"
          ],
          [
           "BTLA"
          ],
          [
           "C1QA"
          ],
          [
           "C1QB"
          ],
          [
           "C2"
          ],
          [
           "C5"
          ],
          [
           "C5AR1"
          ],
          [
           "C7"
          ],
          [
           "CASP1"
          ],
          [
           "CASP3"
          ],
          [
           "CASP8"
          ],
          [
           "CASP9"
          ],
          [
           "CBLC"
          ],
          [
           "CCL13"
          ],
          [
           "CCL14"
          ],
          [
           "CCL18"
          ],
          [
           "CCL19"
          ],
          [
           "CCL2"
          ],
          [
           "CCL20"
          ],
          [
           "CCL21"
          ],
          [
           "CCL22"
          ],
          [
           "CCL3/L1"
          ],
          [
           "CCL4"
          ],
          [
           "CCL7"
          ],
          [
           "CCL8"
          ],
          [
           "CCNA1"
          ],
          [
           "CCNB1"
          ],
          [
           "CCND2"
          ],
          [
           "CCND3"
          ],
          [
           "CCNE1"
          ],
          [
           "CCNO"
          ],
          [
           "CCR2"
          ],
          [
           "CCR4"
          ],
          [
           "CCR5"
          ],
          [
           "CD19"
          ],
          [
           "CD1C"
          ],
          [
           "CD2"
          ],
          [
           "CD209"
          ],
          [
           "CD247"
          ],
          [
           "CD27"
          ],
          [
           "CD274"
          ],
          [
           "CD276"
          ],
          [
           "CD28"
          ],
          [
           "CD300A"
          ],
          [
           "CD36"
          ],
          [
           "CD38"
          ],
          [
           "CD3D"
          ],
          [
           "CD3E"
          ],
          [
           "CD3G"
          ],
          [
           "CD4"
          ],
          [
           "CD40"
          ],
          [
           "CD40LG"
          ],
          [
           "CD44"
          ],
          [
           "CD45RA"
          ],
          [
           "CD45RB"
          ],
          [
           "CD45RO"
          ],
          [
           "CD47"
          ],
          [
           "CD48"
          ],
          [
           "CD5"
          ],
          [
           "CD58"
          ],
          [
           "CD6"
          ],
          [
           "CD69"
          ],
          [
           "CD7"
          ],
          [
           "CD70"
          ],
          [
           "CD74"
          ],
          [
           "CD79A"
          ],
          [
           "CD79B"
          ],
          [
           "CD80"
          ],
          [
           "CD84"
          ],
          [
           "CD86"
          ],
          [
           "CD8A"
          ],
          [
           "CD8B"
          ],
          [
           "CD96"
          ],
          [
           "CDC20"
          ],
          [
           "CDC25C"
          ],
          [
           "CDH11"
          ],
          [
           "CDH2"
          ],
          [
           "CDH5"
          ],
          [
           "CDK2"
          ],
          [
           "CDK6"
          ],
          [
           "CDKN1A"
          ],
          [
           "CDKN1C"
          ],
          [
           "CDKN2A"
          ],
          [
           "CDKN2B"
          ],
          [
           "CEACAM3"
          ],
          [
           "CENPF"
          ],
          [
           "CEP55"
          ],
          [
           "CES3"
          ],
          [
           "CHUK"
          ],
          [
           "CLEC14A"
          ],
          [
           "CLEC4E"
          ],
          [
           "CLEC5A"
          ],
          [
           "CLEC7A"
          ],
          [
           "CLECL1"
          ],
          [
           "CMKLR1"
          ],
          [
           "CNTFR"
          ],
          [
           "COL11A1"
          ],
          [
           "COL11A2"
          ],
          [
           "COL17A1"
          ],
          [
           "COL4A5"
          ],
          [
           "COL5A1"
          ],
          [
           "COL6A3"
          ],
          [
           "COMP"
          ],
          [
           "CPA3"
          ],
          [
           "CRABP2"
          ],
          [
           "CSF1"
          ],
          [
           "CSF1R"
          ],
          [
           "CSF2"
          ],
          [
           "CSF2RB"
          ],
          [
           "CSF3"
          ],
          [
           "CSF3R"
          ],
          [
           "CST2"
          ],
          [
           "CTAG1B"
          ],
          [
           "CTNNB1"
          ],
          [
           "CTSS"
          ],
          [
           "CTSW"
          ],
          [
           "CX3CL1"
          ],
          [
           "CX3CR1"
          ],
          [
           "CXCL1"
          ],
          [
           "CXCL10"
          ],
          [
           "CXCL11"
          ],
          [
           "CXCL12"
          ],
          [
           "CXCL13"
          ],
          [
           "CXCL14"
          ],
          [
           "CXCL16"
          ],
          [
           "CXCL3"
          ],
          [
           "CXCL5"
          ],
          [
           "CXCL6"
          ],
          [
           "CXCL8"
          ],
          [
           "CXCL9"
          ],
          [
           "CXCR2"
          ],
          [
           "CXCR3"
          ],
          [
           "CXCR4"
          ],
          [
           "CXCR6"
          ],
          [
           "CXorf36"
          ],
          [
           "CYBB"
          ],
          [
           "DAB2"
          ],
          [
           "DDB2"
          ],
          [
           "DEFB134"
          ],
          [
           "DEPTOR"
          ],
          [
           "DKK1"
          ],
          [
           "DLL1"
          ],
          [
           "DLL4"
          ],
          [
           "DNMT1"
          ],
          [
           "DPP4"
          ],
          [
           "DTX3L"
          ],
          [
           "DTX4"
          ],
          [
           "DUSP1"
          ],
          [
           "DUSP2"
          ],
          [
           "DUSP5"
          ],
          [
           "E2F3"
          ],
          [
           "EDN1"
          ],
          [
           "EGF"
          ],
          [
           "EGFR"
          ],
          [
           "EGR1"
          ],
          [
           "EIF2AK2"
          ],
          [
           "EIF2B4"
          ],
          [
           "EIF5AL1"
          ],
          [
           "ELOB"
          ],
          [
           "ENO1"
          ],
          [
           "ENTPD1"
          ],
          [
           "EOMES"
          ],
          [
           "EPCAM"
          ],
          [
           "EPM2AIP1"
          ],
          [
           "ERBB2"
          ],
          [
           "ERO1A"
          ],
          [
           "ESR1"
          ],
          [
           "EXO1"
          ],
          [
           "EZH2"
          ],
          [
           "F2RL1"
          ],
          [
           "FADD"
          ],
          [
           "FAM124B"
          ],
          [
           "FAM30A"
          ],
          [
           "FANCA"
          ],
          [
           "FAP"
          ],
          [
           "FAS"
          ],
          [
           "FASLG"
          ],
          [
           "FBP1"
          ],
          [
           "FCGR1A"
          ],
          [
           "FCGR2A"
          ],
          [
           "FCGR2B"
          ],
          [
           "FCGR3A/B"
          ],
          [
           "FCRL2"
          ],
          [
           "FGF13"
          ],
          [
           "FGF18"
          ],
          [
           "FGF9"
          ],
          [
           "FGFR1"
          ],
          [
           "FLNB"
          ],
          [
           "FLT1"
          ],
          [
           "FOSL1"
          ],
          [
           "FOXP3"
          ],
          [
           "FPR1"
          ],
          [
           "FPR3"
          ],
          [
           "FSTL3"
          ],
          [
           "FUT4"
          ],
          [
           "FYN"
          ],
          [
           "FZD8"
          ],
          [
           "FZD9"
          ],
          [
           "GAS1"
          ],
          [
           "GBP1"
          ],
          [
           "GBP2"
          ],
          [
           "GBP4"
          ],
          [
           "GHR"
          ],
          [
           "GIMAP4"
          ],
          [
           "GIMAP6"
          ],
          [
           "GLI1"
          ],
          [
           "GLS"
          ],
          [
           "GLUD1"
          ],
          [
           "GLUL"
          ],
          [
           "GMIP"
          ],
          [
           "GNG4"
          ],
          [
           "GNLY"
          ],
          [
           "GOT1"
          ],
          [
           "GOT2"
          ],
          [
           "GPC4"
          ],
          [
           "GPR160"
          ],
          [
           "GPSM3"
          ],
          [
           "GZMB"
          ],
          [
           "GZMH"
          ],
          [
           "GZMK"
          ],
          [
           "GZMM"
          ],
          [
           "H2AFX"
          ],
          [
           "HAVCR2"
          ],
          [
           "HCK"
          ],
          [
           "HDAC11"
          ],
          [
           "HDAC3"
          ],
          [
           "HDAC4"
          ],
          [
           "HDAC5"
          ],
          [
           "HDC"
          ],
          [
           "HELLS"
          ],
          [
           "HERC6"
          ],
          [
           "HES1"
          ],
          [
           "HEY1"
          ],
          [
           "HIF1A"
          ],
          [
           "HK1"
          ],
          [
           "HK2"
          ],
          [
           "HLA-A"
          ],
          [
           "HLA-B"
          ],
          [
           "HLA-C"
          ],
          [
           "HLA-DMA"
          ],
          [
           "HLA-DMB"
          ],
          [
           "HLA-DOA"
          ],
          [
           "HLA-DOB"
          ],
          [
           "HLA-DPA1"
          ],
          [
           "HLA-DPB1"
          ],
          [
           "HLA-DQA1"
          ],
          [
           "HLA-DQA2"
          ],
          [
           "HLA-DQB1"
          ],
          [
           "HLA-DRA"
          ],
          [
           "HLA-DRB1"
          ],
          [
           "HLA-DRB5"
          ],
          [
           "HLA-E"
          ],
          [
           "HLA-F"
          ],
          [
           "HMGA1"
          ],
          [
           "HMGB1"
          ],
          [
           "HNF1A"
          ],
          [
           "HRAS"
          ],
          [
           "HSD11B1"
          ],
          [
           "ICAM1"
          ],
          [
           "ICAM2"
          ],
          [
           "ICAM3"
          ],
          [
           "ICAM5"
          ],
          [
           "ICOS"
          ],
          [
           "ICOSLG"
          ],
          [
           "ID4"
          ],
          [
           "IDO1"
          ],
          [
           "IER3"
          ],
          [
           "IFI16"
          ],
          [
           "IFI27"
          ],
          [
           "IFI35"
          ],
          [
           "IFI6"
          ],
          [
           "IFIH1"
          ],
          [
           "IFIT1"
          ],
          [
           "IFIT2"
          ],
          [
           "IFIT3"
          ],
          [
           "IFITM1"
          ],
          [
           "IFITM2"
          ],
          [
           "IFNA1"
          ],
          [
           "IFNAR1"
          ],
          [
           "IFNG"
          ],
          [
           "IFNGR1"
          ],
          [
           "IGF2R"
          ],
          [
           "IHH"
          ],
          [
           "IKBKB"
          ],
          [
           "IKBKG"
          ],
          [
           "IL10"
          ],
          [
           "IL10RA"
          ],
          [
           "IL11"
          ],
          [
           "IL11RA"
          ],
          [
           "IL12RB2"
          ],
          [
           "IL15"
          ],
          [
           "IL16"
          ],
          [
           "IL17A"
          ],
          [
           "IL18"
          ],
          [
           "IL18R1"
          ],
          [
           "IL1A"
          ],
          [
           "IL1B"
          ],
          [
           "IL1R2"
          ],
          [
           "IL1RN"
          ],
          [
           "IL21R"
          ],
          [
           "IL22RA1"
          ],
          [
           "IL24"
          ],
          [
           "IL2RA"
          ],
          [
           "IL2RB"
          ],
          [
           "IL2RG"
          ],
          [
           "IL32"
          ],
          [
           "IL33"
          ],
          [
           "IL34"
          ],
          [
           "IL4"
          ],
          [
           "IL6"
          ],
          [
           "IL6R"
          ],
          [
           "IL7R"
          ],
          [
           "INHBA"
          ],
          [
           "IRF1"
          ],
          [
           "IRF2"
          ],
          [
           "IRF3"
          ],
          [
           "IRF5"
          ],
          [
           "IRF7"
          ],
          [
           "IRF8"
          ],
          [
           "IRF9"
          ],
          [
           "ISG15"
          ],
          [
           "ITGA1"
          ],
          [
           "ITGA2"
          ],
          [
           "ITGA4"
          ],
          [
           "ITGA6"
          ],
          [
           "ITGAE"
          ],
          [
           "ITGAL"
          ],
          [
           "ITGAM"
          ],
          [
           "ITGAV"
          ],
          [
           "ITGAX"
          ],
          [
           "ITGB2"
          ],
          [
           "ITGB3"
          ],
          [
           "ITGB8"
          ],
          [
           "ITPK1"
          ],
          [
           "JAG1"
          ],
          [
           "JAG2"
          ],
          [
           "JAK1"
          ],
          [
           "JAK2"
          ],
          [
           "JAK3"
          ],
          [
           "KAT2B"
          ],
          [
           "KDR"
          ],
          [
           "KIF2C"
          ],
          [
           "KIR2DL3"
          ],
          [
           "KIR3DL1"
          ],
          [
           "KIR3DL2"
          ],
          [
           "KIT"
          ],
          [
           "KLRB1"
          ],
          [
           "KLRD1"
          ],
          [
           "KLRK1"
          ],
          [
           "KRAS"
          ],
          [
           "LAG3"
          ],
          [
           "LAIR1"
          ],
          [
           "LAMA1"
          ],
          [
           "LAMB3"
          ],
          [
           "LAMC2"
          ],
          [
           "LCK"
          ],
          [
           "LDHA"
          ],
          [
           "LDHB"
          ],
          [
           "LGALS9"
          ],
          [
           "LIF"
          ],
          [
           "LILRA1"
          ],
          [
           "LILRA3"
          ],
          [
           "LILRB2"
          ],
          [
           "LOXL2"
          ],
          [
           "LRRC32"
          ],
          [
           "LTB"
          ],
          [
           "LTBP1"
          ],
          [
           "LY9"
          ],
          [
           "LY96"
          ],
          [
           "MAGEA1"
          ],
          [
           "MAGEA12"
          ],
          [
           "MAGEA3/A6"
          ],
          [
           "MAGEA4"
          ],
          [
           "MAGEB2"
          ],
          [
           "MAGEC1"
          ],
          [
           "MAGEC2"
          ],
          [
           "MAML2"
          ],
          [
           "MAP3K12"
          ],
          [
           "MAP3K5"
          ],
          [
           "MAP3K7"
          ],
          [
           "MAP3K8"
          ],
          [
           "MAPK10"
          ],
          [
           "MARCO"
          ],
          [
           "MB21D1"
          ],
          [
           "MELK"
          ],
          [
           "MET"
          ],
          [
           "MFGE8"
          ],
          [
           "MFNG"
          ],
          [
           "MGMT"
          ],
          [
           "MICA"
          ],
          [
           "MICB"
          ],
          [
           "MKI67"
          ],
          [
           "MLANA"
          ],
          [
           "MLH1"
          ],
          [
           "MMP1"
          ],
          [
           "MMP7"
          ],
          [
           "MMP9"
          ],
          [
           "MMRN2"
          ],
          [
           "MRC1"
          ],
          [
           "MRE11"
          ],
          [
           "MS4A1"
          ],
          [
           "MS4A2"
          ],
          [
           "MS4A4A"
          ],
          [
           "MS4A6A"
          ],
          [
           "MSH2"
          ],
          [
           "MSH6"
          ],
          [
           "MTOR"
          ],
          [
           "MX1"
          ],
          [
           "MXI1"
          ],
          [
           "MYC"
          ],
          [
           "MYCT1"
          ],
          [
           "NBN"
          ],
          [
           "NCAM1"
          ],
          [
           "NDUFA4L2"
          ],
          [
           "NECTIN1"
          ],
          [
           "NECTIN2"
          ],
          [
           "NEIL1"
          ],
          [
           "NF1"
          ],
          [
           "NFAM1"
          ],
          [
           "NFATC2"
          ],
          [
           "NFIL3"
          ],
          [
           "NFKB1"
          ],
          [
           "NFKB2"
          ],
          [
           "NFKBIA"
          ],
          [
           "NFKBIE"
          ],
          [
           "NGFR"
          ],
          [
           "NID2"
          ],
          [
           "NLRC5"
          ],
          [
           "NOS2"
          ],
          [
           "NOTCH1"
          ],
          [
           "NOTCH2"
          ],
          [
           "NRAS"
          ],
          [
           "NT5E"
          ],
          [
           "OAS1"
          ],
          [
           "OAS2"
          ],
          [
           "OAS3"
          ],
          [
           "OASL"
          ],
          [
           "OLFML2B"
          ],
          [
           "OLR1"
          ],
          [
           "OTOA"
          ],
          [
           "P2RY13"
          ],
          [
           "P4HA1"
          ],
          [
           "P4HA2"
          ],
          [
           "PALMD"
          ],
          [
           "PARP12"
          ],
          [
           "PARP4"
          ],
          [
           "PARP9"
          ],
          [
           "PC"
          ],
          [
           "PCK2"
          ],
          [
           "PDCD1"
          ],
          [
           "PDCD1LG2"
          ],
          [
           "PDGFA"
          ],
          [
           "PDGFB"
          ],
          [
           "PDGFRB"
          ],
          [
           "PDK1"
          ],
          [
           "PDZK1IP1"
          ],
          [
           "PECAM1"
          ],
          [
           "PF4"
          ],
          [
           "PFKFB3"
          ],
          [
           "PFKM"
          ],
          [
           "PGPEP1"
          ],
          [
           "PIAS4"
          ],
          [
           "PIK3CA"
          ],
          [
           "PIK3CD"
          ],
          [
           "PIK3CG"
          ],
          [
           "PIK3R1"
          ],
          [
           "PIK3R2"
          ],
          [
           "PIK3R5"
          ],
          [
           "PKM"
          ],
          [
           "PLA1A"
          ],
          [
           "PLA2G2A"
          ],
          [
           "PLOD2"
          ],
          [
           "PMS2"
          ],
          [
           "PNOC"
          ],
          [
           "POLD1"
          ],
          [
           "PPARG"
          ],
          [
           "PPARGC1B"
          ],
          [
           "PRF1"
          ],
          [
           "PRKAA2"
          ],
          [
           "PRKACB"
          ],
          [
           "PRKCA"
          ],
          [
           "PRKX"
          ],
          [
           "PRLR"
          ],
          [
           "PROM1"
          ],
          [
           "PRR5"
          ],
          [
           "PSMB10"
          ],
          [
           "PSMB5"
          ],
          [
           "PSMB8"
          ],
          [
           "PSMB9"
          ],
          [
           "PTCD2"
          ],
          [
           "PTEN"
          ],
          [
           "PTGER4"
          ],
          [
           "PTGS2"
          ],
          [
           "PTPN11"
          ],
          [
           "PTPRC"
          ],
          [
           "PVR"
          ],
          [
           "PVRIG"
          ],
          [
           "RAD50"
          ],
          [
           "RAD51"
          ],
          [
           "RAD51C"
          ],
          [
           "RASAL1"
          ],
          [
           "RASGRF1"
          ],
          [
           "RB1"
          ],
          [
           "RBL2"
          ],
          [
           "RELA"
          ],
          [
           "RELB"
          ],
          [
           "RELN"
          ],
          [
           "REN"
          ],
          [
           "RICTOR"
          ],
          [
           "RIPK1"
          ],
          [
           "RIPK2"
          ],
          [
           "RIPK3"
          ],
          [
           "RNLS"
          ],
          [
           "ROBO4"
          ],
          [
           "ROCK1"
          ],
          [
           "ROR2"
          ],
          [
           "RORC"
          ],
          [
           "RPL23"
          ],
          [
           "RPL7A"
          ],
          [
           "RPS6KB1"
          ],
          [
           "RPTOR"
          ],
          [
           "RRM2"
          ],
          [
           "RSAD2"
          ],
          [
           "RUNX3"
          ],
          [
           "S100A12"
          ],
          [
           "S100A8"
          ],
          [
           "S100A9"
          ],
          [
           "SAMD9"
          ],
          [
           "SAMSN1"
          ],
          [
           "SBNO2"
          ],
          [
           "SELE"
          ],
          [
           "SELL"
          ],
          [
           "SELP"
          ],
          [
           "SERPINA1"
          ],
          [
           "SERPINB5"
          ],
          [
           "SERPINH1"
          ],
          [
           "SFRP1"
          ],
          [
           "SFRP4"
          ],
          [
           "SFXN1"
          ],
          [
           "SGK1"
          ],
          [
           "SH2D1A"
          ],
          [
           "SHC2"
          ],
          [
           "SIGLEC1"
          ],
          [
           "SIGLEC5"
          ],
          [
           "SIGLEC8"
          ],
          [
           "SIRPA"
          ],
          [
           "SIRPB2"
          ],
          [
           "SLAMF7"
          ],
          [
           "SLC11A1"
          ],
          [
           "SLC16A1"
          ],
          [
           "SLC1A5"
          ],
          [
           "SLC2A1"
          ],
          [
           "SLC7A5"
          ],
          [
           "SMAD5"
          ],
          [
           "SMAP1"
          ],
          [
           "SNAI1"
          ],
          [
           "SNCA"
          ],
          [
           "SOCS1"
          ],
          [
           "SOX10"
          ],
          [
           "SOX11"
          ],
          [
           "SOX2"
          ],
          [
           "SPIB"
          ],
          [
           "SPP1"
          ],
          [
           "SPRY4"
          ],
          [
           "SREBF1"
          ],
          [
           "SRP54"
          ],
          [
           "STAT1"
          ],
          [
           "STAT2"
          ],
          [
           "STAT3"
          ],
          [
           "STAT4"
          ],
          [
           "STC1"
          ],
          [
           "SYK"
          ],
          [
           "TAF3"
          ],
          [
           "TAP1"
          ],
          [
           "TAP2"
          ],
          [
           "TAPBP"
          ],
          [
           "TAPBPL"
          ],
          [
           "TBX21"
          ],
          [
           "TBXAS1"
          ],
          [
           "TCF3"
          ],
          [
           "TCL1A"
          ],
          [
           "TDO2"
          ],
          [
           "TGFB1"
          ],
          [
           "TGFB2"
          ],
          [
           "TGFB3"
          ],
          [
           "TGFBR1"
          ],
          [
           "TGFBR2"
          ],
          [
           "THBD"
          ],
          [
           "THY1"
          ],
          [
           "TICAM1"
          ],
          [
           "TIE1"
          ],
          [
           "TIGIT"
          ],
          [
           "TLR1"
          ],
          [
           "TLR2"
          ],
          [
           "TLR3"
          ],
          [
           "TLR4"
          ],
          [
           "TLR5"
          ],
          [
           "TLR7"
          ],
          [
           "TLR8"
          ],
          [
           "TLR9"
          ],
          [
           "TMEM140"
          ],
          [
           "TMEM173"
          ],
          [
           "TNF"
          ],
          [
           "TNFAIP3"
          ],
          [
           "TNFAIP6"
          ],
          [
           "TNFRSF10B"
          ],
          [
           "TNFRSF10C"
          ],
          [
           "TNFRSF10D"
          ],
          [
           "TNFRSF11A"
          ],
          [
           "TNFRSF11B"
          ],
          [
           "TNFRSF14"
          ],
          [
           "TNFRSF17"
          ],
          [
           "TNFRSF18"
          ],
          [
           "TNFRSF1B"
          ],
          [
           "TNFRSF25"
          ],
          [
           "TNFRSF4"
          ],
          [
           "TNFRSF8"
          ],
          [
           "TNFRSF9"
          ],
          [
           "TNFSF10"
          ],
          [
           "TNFSF12"
          ],
          [
           "TNFSF13B"
          ],
          [
           "TNFSF18"
          ],
          [
           "TNFSF4"
          ],
          [
           "TNFSF8"
          ],
          [
           "TNFSF9"
          ],
          [
           "TNKS"
          ],
          [
           "TP53"
          ],
          [
           "TPI1"
          ],
          [
           "TPM1"
          ],
          [
           "TPSAB1/B2"
          ],
          [
           "TRAF1"
          ],
          [
           "TRAT1"
          ],
          [
           "TREM2"
          ],
          [
           "TRIM21"
          ],
          [
           "TSLP"
          ],
          [
           "TTC30A"
          ],
          [
           "TWF1"
          ],
          [
           "TWIST1"
          ],
          [
           "TWIST2"
          ],
          [
           "TYMP"
          ],
          [
           "TYMS"
          ],
          [
           "UBA7"
          ],
          [
           "UBE2C"
          ],
          [
           "UBE2T"
          ],
          [
           "ULBP2"
          ],
          [
           "VCAM1"
          ],
          [
           "VCAN"
          ],
          [
           "VEGFA"
          ],
          [
           "VEGFB"
          ],
          [
           "VEGFC"
          ],
          [
           "VHL"
          ],
          [
           "VSIR"
          ],
          [
           "VTCN1"
          ],
          [
           "WDR76"
          ],
          [
           "WNT10A"
          ],
          [
           "WNT11"
          ],
          [
           "WNT2"
          ],
          [
           "WNT2B"
          ],
          [
           "WNT3A"
          ],
          [
           "WNT4"
          ],
          [
           "WNT5A"
          ],
          [
           "WNT5B"
          ],
          [
           "WNT7B"
          ],
          [
           "XCL1/2"
          ],
          [
           "ZAP70"
          ],
          [
           "ZC3H12A"
          ],
          [
           "ZEB1"
          ],
          [
           "ZEB2"
          ]
         ],
         "hovertemplate": "Gene_Regulation=Not Significant<br>log2_FC=%{x}<br>log10_p=%{y}<br>Gene=%{customdata[0]}<br>Label=%{text}<extra></extra>",
         "legendgroup": "Not Significant",
         "marker": {
          "color": "black",
          "symbol": "circle"
         },
         "mode": "markers+text",
         "name": "Not Significant",
         "showlegend": true,
         "text": [
          "",
          "",
          "",
          "",
          "",
          "",
          "",
          "",
          "",
          "",
          "",
          "",
          "",
          "",
          "",
          "",
          "",
          "",
          "",
          "",
          "",
          "",
          "",
          "",
          "",
          "",
          "",
          "",
          "",
          "",
          "",
          "",
          "",
          "",
          "",
          "",
          "",
          "",
          "",
          "",
          "",
          "",
          "",
          "",
          "",
          "",
          "",
          "",
          "",
          "",
          "",
          "",
          "",
          "",
          "",
          "",
          "",
          "",
          "",
          "",
          "",
          "",
          "",
          "",
          "",
          "",
          "",
          "",
          "",
          "",
          "",
          "",
          "",
          "",
          "",
          "",
          "",
          "",
          "",
          "",
          "",
          "",
          "",
          "",
          "",
          "",
          "",
          "",
          "",
          "",
          "",
          "",
          "",
          "",
          "",
          "",
          "",
          "",
          "",
          "",
          "",
          "",
          "",
          "",
          "",
          "",
          "",
          "",
          "",
          "",
          "",
          "",
          "",
          "",
          "",
          "",
          "",
          "",
          "",
          "",
          "",
          "",
          "",
          "",
          "",
          "",
          "",
          "",
          "",
          "",
          "",
          "",
          "",
          "",
          "",
          "",
          "",
          "",
          "",
          "",
          "",
          "",
          "",
          "",
          "",
          "",
          "",
          "",
          "",
          "",
          "",
          "",
          "",
          "",
          "",
          "",
          "",
          "",
          "",
          "",
          "",
          "",
          "",
          "",
          "",
          "",
          "",
          "",
          "",
          "",
          "",
          "",
          "",
          "",
          "",
          "",
          "",
          "",
          "",
          "",
          "",
          "",
          "",
          "",
          "",
          "",
          "",
          "",
          "",
          "",
          "",
          "",
          "",
          "",
          "",
          "",
          "",
          "",
          "",
          "",
          "",
          "",
          "",
          "",
          "",
          "",
          "",
          "",
          "",
          "",
          "",
          "",
          "",
          "",
          "",
          "",
          "",
          "",
          "",
          "",
          "",
          "",
          "",
          "",
          "",
          "",
          "",
          "",
          "",
          "",
          "",
          "",
          "",
          "",
          "",
          "",
          "",
          "",
          "",
          "",
          "",
          "",
          "",
          "",
          "",
          "",
          "",
          "",
          "",
          "",
          "",
          "",
          "",
          "",
          "",
          "",
          "",
          "",
          "",
          "",
          "",
          "",
          "",
          "",
          "",
          "",
          "",
          "",
          "",
          "",
          "",
          "",
          "",
          "",
          "",
          "",
          "",
          "",
          "",
          "",
          "",
          "",
          "",
          "",
          "",
          "",
          "",
          "",
          "",
          "",
          "",
          "",
          "",
          "",
          "",
          "",
          "",
          "",
          "",
          "",
          "",
          "",
          "",
          "",
          "",
          "",
          "",
          "",
          "",
          "",
          "",
          "",
          "",
          "",
          "",
          "",
          "",
          "",
          "",
          "",
          "",
          "",
          "",
          "",
          "",
          "",
          "",
          "",
          "",
          "",
          "",
          "",
          "",
          "",
          "",
          "",
          "",
          "",
          "",
          "",
          "",
          "",
          "",
          "",
          "",
          "",
          "",
          "",
          "",
          "",
          "",
          "",
          "",
          "",
          "",
          "",
          "",
          "",
          "",
          "",
          "",
          "",
          "",
          "",
          "",
          "",
          "",
          "",
          "",
          "",
          "",
          "",
          "",
          "",
          "",
          "",
          "",
          "",
          "",
          "",
          "",
          "",
          "",
          "",
          "",
          "",
          "",
          "",
          "",
          "",
          "",
          "",
          "",
          "",
          "",
          "",
          "",
          "",
          "",
          "",
          "",
          "",
          "",
          "",
          "",
          "",
          "",
          "",
          "",
          "",
          "",
          "",
          "",
          "",
          "",
          "",
          "",
          "",
          "",
          "",
          "",
          "",
          "",
          "",
          "",
          "",
          "",
          "",
          "",
          "",
          "",
          "",
          "",
          "",
          "",
          "",
          "",
          "",
          "",
          "",
          "",
          "",
          "",
          "",
          "",
          "",
          "",
          "",
          "",
          "",
          "",
          "",
          "",
          "",
          "",
          "",
          "",
          "",
          "",
          "",
          "",
          "",
          "",
          "",
          "",
          "",
          "",
          "",
          "",
          "",
          "",
          "",
          "",
          "",
          "",
          "",
          "",
          "",
          "",
          "",
          "",
          "",
          "",
          "",
          "",
          "",
          "",
          "",
          "",
          "",
          "",
          "",
          "",
          "",
          "",
          "",
          "",
          "",
          "",
          "",
          "",
          "",
          "",
          "",
          "",
          "",
          "",
          "",
          "",
          "",
          "",
          "",
          "",
          "",
          "",
          "",
          "",
          "",
          "",
          "",
          "",
          "",
          "",
          "",
          "",
          "",
          "",
          "",
          "",
          "",
          "",
          "",
          "",
          "",
          "",
          "",
          "",
          "",
          "",
          "",
          "",
          "",
          "",
          "",
          "",
          "",
          "",
          "",
          "",
          "",
          "",
          "",
          "",
          "",
          "",
          "",
          "",
          "",
          "",
          "",
          "",
          "",
          "",
          "",
          "",
          "",
          "",
          "",
          "",
          "",
          "",
          "",
          "",
          "",
          "",
          "",
          "",
          "",
          "",
          "",
          "",
          "",
          "",
          "",
          "",
          "",
          "",
          "",
          "",
          "",
          "",
          "",
          "",
          "",
          "",
          "",
          "",
          "",
          "",
          "",
          "",
          "",
          "",
          "",
          "",
          "",
          "",
          "",
          "",
          "",
          "",
          "",
          "",
          "",
          "",
          "",
          "",
          "",
          "",
          "",
          "",
          "",
          "",
          "",
          "",
          "",
          "",
          "",
          "",
          "",
          "",
          "",
          "",
          "",
          "",
          "",
          "",
          "",
          "",
          "",
          "",
          "",
          "",
          "",
          "",
          "",
          "",
          "",
          "",
          "",
          "",
          "",
          "",
          "",
          "",
          "",
          "",
          "",
          "",
          "",
          "",
          "",
          "",
          "",
          "",
          "",
          "",
          "",
          "",
          "",
          "",
          "",
          "",
          "",
          "",
          "",
          "",
          "",
          "",
          "",
          "",
          "",
          "",
          "",
          "",
          "",
          "",
          "",
          "",
          "",
          "",
          "",
          "",
          "",
          "",
          "",
          "",
          "",
          "",
          "",
          "",
          "",
          "",
          "",
          "",
          "",
          "",
          "",
          "",
          "",
          "",
          "",
          "",
          "",
          "",
          "",
          "",
          "",
          ""
         ],
         "textfont": {
          "size": 10
         },
         "textposition": "top left",
         "type": "scatter",
         "x": [
          -0.6282777385242417,
          -0.16753420955995027,
          -2.1181525204786285,
          2.2056505574376253,
          2.2248717996657925,
          -0.5664700557791099,
          0.6627145723962415,
          0.75667225430501,
          -0.6141903898872695,
          0.804081055980463,
          0.20994141419535461,
          -0.1671722058598841,
          -0.24277442586418577,
          0.13560420364440262,
          0.341664089789944,
          -0.17530153936989795,
          -0.09175181254701509,
          -2.781529654763967,
          0.2699452289050046,
          0.0815479064714274,
          0.5275480196861622,
          -2.0894192406254075,
          0.10902285551798359,
          -1.4130432638884958,
          1.4188308486037564,
          -0.2682432851909668,
          0.4580561336287866,
          0.13245300311763789,
          0.42883140947177295,
          0.1036615055298916,
          -0.25420551951986714,
          0.031137784320758553,
          0.35251488204510734,
          0.1952112460039096,
          -0.02435128054003439,
          0.517020672958404,
          0.4487569023331774,
          0.9329678837419306,
          0.4309976147051239,
          1.289684497769724,
          -0.3441559607920226,
          -0.712730786156307,
          -1.7446171880816508,
          -0.24372573936894695,
          -0.3798716437461842,
          -0.09303587918980709,
          1.1486938141426084,
          0.10403721942305605,
          -0.8525378065448063,
          0.17251142354937313,
          -0.2637705406745148,
          0.2046396262478825,
          -1.5857889477934244,
          -0.5920022426317402,
          -1.0259901600255246,
          0.8158981272040443,
          -0.039552080523094,
          4.413244497498984,
          0.15231584467737713,
          1.9487051902200456,
          0.6404472961114466,
          0.1741831489408301,
          0.018316114896784898,
          0.6457420208995756,
          0.7281301587327754,
          -0.9201948142255286,
          -0.05510834805903563,
          -1.9659101642762544,
          3.362630459699432,
          1.4025250886961507,
          -3.6390896885174553,
          -5.11878212808906,
          1.8033792624889617,
          0.877101432633456,
          2.69216619965114,
          -0.4242095517431819,
          0.4220007530874696,
          -1.4588147228653763,
          -0.08287928899963792,
          0.5818698663348146,
          0.6311515005612873,
          -0.5352526923656565,
          1.4108135382893907,
          -1.099014971431763,
          0.9064639009129688,
          -2.5324278170994337,
          -0.8411567444802301,
          -0.5201312652949412,
          -1.340661915445259,
          0.3798878806921963,
          -1.2444967318594031,
          -0.550331478911648,
          -0.13952318859538232,
          -0.33885066048531354,
          2.493586160761571,
          4.557946965836133,
          0.3016896632976142,
          -0.7018848461935995,
          -0.3435713826295319,
          -0.32512057275525896,
          0.19638405923256033,
          -1.5996376477297685,
          -1.4271330642878493,
          0.02008902517822474,
          -0.17587770862616028,
          0.13175557233291743,
          -0.0758927951134487,
          0.4703728938944124,
          0.017674087050691383,
          -0.23709546952503763,
          1.1633630283810992,
          -0.5866516563124295,
          -0.2213029371311028,
          -0.6225539246452693,
          -0.2708760622880085,
          -0.3509614231147769,
          -1.8083283379986943,
          -1.2308819774928266,
          -1.4888788113186888,
          0.1251343468794251,
          1.9607366641797264,
          1.0339283115602365,
          0.8208595839201424,
          -0.4839201968291725,
          -0.9264228767399799,
          0.7504989116976067,
          -0.11331632567666965,
          -0.2343138399321481,
          0.1584472822706717,
          -0.5251765128133556,
          0.7520732707888313,
          1.9018574672355881,
          2.7921299625353546,
          -0.059404772201143506,
          0.22163498249299485,
          2.211920458366723,
          -0.5144808321979386,
          -0.500503955671798,
          0.3301269303921267,
          0.14465362716444743,
          0.17696391008532447,
          1.1318463113462753,
          3.042745524680417,
          5.492506516647082,
          -1.1238005769135169,
          1.9277872647939054,
          -0.1955441775774763,
          0.5198818721327755,
          0.055579724810472776,
          -0.26285387512838426,
          0.31451348501982623,
          0.9653097285416233,
          -0.5130244728145685,
          0.3265362106451215,
          -1.8501276631899113,
          -0.4852458730364186,
          -0.8714238774984362,
          4.173102588910927,
          -0.6843632552266796,
          0.6653265503648057,
          0.04626457840832297,
          5.482619358004974,
          1.2055572448616763,
          0.04341050765879391,
          0.4904893076914531,
          3.032113231637844,
          1.7457537885951016,
          0.3653588292952295,
          4.049271801065539,
          2.1086406045153097,
          0.18569897149465608,
          0.18458268006623835,
          -0.6164015565357202,
          -3.816432786638297,
          -0.6697888884642346,
          1.9832609036409115,
          0.6399660061588339,
          3.704147847066502,
          0.2215364732472856,
          3.5237290855918633,
          -2.2791616216446933,
          1.8687895266725494,
          -0.13823925265583628,
          0.009021885164071609,
          0.2980342809307804,
          1.4159867129025945,
          2.5128980370036804,
          1.0514496086939211,
          0.12111912153161072,
          -0.15966811757057361,
          -0.27735487574769635,
          0.05516257801094104,
          -0.30336251522672525,
          -0.09424803533374038,
          -0.2994031406391038,
          -0.20452756434496808,
          0.47198114306966527,
          -0.6300640120152611,
          1.3804001485991229,
          0.6882016723449452,
          -0.7371182933328394,
          1.1852694687981038,
          -0.6325557350551964,
          2.309294440199827,
          0.2134993917957523,
          -1.1417952872505093,
          0.5156868567258495,
          -0.14429036337523546,
          0.1871931424419703,
          0.46994133061309074,
          0.6915228623424028,
          0.7577462497673997,
          0.710108533291529,
          -0.6198047185508032,
          -0.1783709335202955,
          1.4888704016398537,
          0.41589445371502626,
          -0.3830752593135169,
          -0.43033188848218124,
          -0.29921350414708164,
          -0.23748702182755388,
          0.13793274689911778,
          1.244064547597346,
          -1.9582754914433371,
          -0.19295855749060603,
          -0.18852721758441882,
          0.09567673999377685,
          1.0411492073174233,
          2.594560656439146,
          3.6593987941668926,
          5.63383443043953,
          -0.5862667704981344,
          5.056715752689999,
          -1.7134923567117306,
          0.0036235916611993607,
          -1.236553125190371,
          -0.22446530471460188,
          -0.7085700014134634,
          -0.2783381910918636,
          0.2535966821711545,
          2.228142730251802,
          -1.399528810917073,
          6.044127287043502,
          0.7339463183259729,
          0.45121660966628957,
          0.7678163781858742,
          -0.2947318952247894,
          -0.2614045304913639,
          -0.7521546891621115,
          0.10436826741104799,
          -0.38379470425654866,
          0.6648392361339514,
          0.47626555782934576,
          0.39494455384607574,
          0.11836240992438586,
          0.19684110624803453,
          0.05779570273104475,
          -0.7566764706864472,
          0.49160112503296094,
          2.6464216231890303,
          0.09425826624541202,
          -0.21441288462176938,
          3.9726470455711684,
          -0.7672151626411782,
          -0.312251837766496,
          -0.8184478916016386,
          -0.29823205463948993,
          0.3833319012656972,
          1.4439534995267114,
          4.532837331804626,
          0.1072176900982077,
          0.3728949352162114,
          -0.6435141354761221,
          2.154285023003582,
          3.3182369670540175,
          0.3923052722251221,
          0.08982174195869917,
          0.273152620888944,
          0.12385835373480411,
          1.0471688072226475,
          -0.8602996779310914,
          0.21424131455173762,
          3.3089431204493396,
          0.5312436747733524,
          0.3688400032370677,
          0.5528071306009693,
          0.7670221811175907,
          0.1655839357778502,
          0.298497205939922,
          0.44090727392690593,
          0.1376513938422,
          0.23591668270452282,
          -1.5137104618566772,
          -1.9348060287450204,
          -0.08550117194163649,
          -0.11577749560570277,
          -1.2174223339585557,
          -1.3398545422708408,
          -0.39067028176001295,
          -0.06550067219386396,
          0.047359385086761296,
          0.12095111275502006,
          0.4257196211082329,
          0.14073900562986738,
          -0.16780616799931788,
          -0.19605657098666995,
          0.9829230760369898,
          -0.06721036228241783,
          0.20644108784370446,
          0.770236285175509,
          -0.23620249201442411,
          0.23993629454280824,
          -0.09334225302291228,
          -1.3984125529355995,
          -0.7237042439461814,
          -0.8870371839428617,
          -3.054644449990921,
          3.714400872846047,
          0.013458745455130114,
          5.280683347965572,
          0.6359271711030128,
          1.34572030087837,
          -0.5194666370661415,
          0.24546070635428363,
          0.7034189481651046,
          0.7936671708690843,
          0.38363690678986523,
          0.9577929122754409,
          -0.6100348710862781,
          0.600803047987471,
          -0.3413221154344023,
          1.506234916803935,
          0.8811213315554981,
          0.38317031812882596,
          -0.34185135792969396,
          0.385325697832298,
          0.23120985129631214,
          0.8283625721318422,
          -0.3421986558087186,
          -0.08508086565450433,
          0.6001564279603347,
          0.9391834105521626,
          -0.27608941770460366,
          -0.25903296116648333,
          1.359005235177696,
          -0.7171404733372982,
          0.7410192310165137,
          3.914483858411396,
          0.7491717371383118,
          2.1799493079574654,
          -0.7925230033715498,
          -0.35336327128663325,
          -0.017974669572560158,
          -0.7453455631402459,
          0.8894368853132626,
          -0.3055814644688269,
          0.3430711502742892,
          -0.46974750353679984,
          -0.45500769313288786,
          0.34973069750102687,
          -1.9602046105591495,
          -0.2680226582268573,
          -0.18758967245764646,
          0.40499391908572346,
          0.3613923542254122,
          -0.3312876785859255,
          -0.007581588924386313,
          1.425221080004712,
          -0.24298216200947204,
          -1.05351757338941,
          0.12329976381626316,
          0.529707215712385,
          -0.3893427910755375,
          0.7632180439350944,
          1.1010334790450886,
          -0.01454331975462794,
          0.1760937866621883,
          0.4964056484050072,
          3.2420716819471442,
          -0.37233255500056134,
          3.1940512703673716,
          1.6877535017268392,
          5.2187885725332475,
          0.3143062683302296,
          1.2932743796037254,
          0.8229016134322108,
          -0.09575312451011299,
          0.19299945505544272,
          1.0407299877059035,
          -0.5101156088395298,
          0.4999091841199577,
          0.2981398103370831,
          -0.43001588587611334,
          2.786361956024745,
          2.246430978611378,
          1.505967120199816,
          -1.8803412632531566,
          1.3604537121704612,
          2.744513446376367,
          1.145030833358452,
          0.38352190276890225,
          0.44060071627972175,
          0.03258248271718642,
          -0.24440208199133584,
          1.472562290608887,
          0.40734279687216457,
          -0.42011400483901046,
          0.3036349577601326,
          -0.2153158478163373,
          1.0606707009678187,
          -0.45769640495869784,
          3.672655575512504,
          3.9980635063140295,
          4.76681231358321,
          -0.06037880648650215,
          -0.7229382785231891,
          -0.6892986081340837,
          3.0095002521164553,
          -1.6047995876972339,
          1.127918101013596,
          -0.2627127688741323,
          0.23164709426023936,
          -0.1611651956202794,
          0.28882248997553417,
          0.9330398900270177,
          -0.21199159161318137,
          -0.024005268844917826,
          -0.4596311515387351,
          0.21646594407866587,
          0.24865031095092915,
          0.018177435862817372,
          0.7149238688614261,
          -0.005684798778765289,
          3.9523235229045617,
          0.49824739070047286,
          -0.23326668306159193,
          0.1828444216298032,
          0.30643233266730746,
          0.5366585251086774,
          0.06234785632939429,
          -0.28037426229010337,
          0.5873162164272472,
          -0.39633198495295924,
          -0.021311890392600355,
          -0.16297185539670153,
          1.029620569929187,
          -0.74387311519806,
          -1.8212678340387471,
          -0.8530786894931485,
          -0.7624356590096065,
          -0.05682153792975435,
          -2.4129373024720002,
          -0.5533502828727186,
          1.2571347103744521,
          -0.07970804845515035,
          -0.5141836263591152,
          -0.5001638581048398,
          -0.2398426720517735,
          0.12871889893477956,
          0.5153772350314128,
          -0.9508874026071451,
          1.059414375534911,
          -0.03972804069957499,
          1.8319360695030582,
          0.4256446590179894,
          -0.16401055026356973,
          0.7647572936190087,
          -0.9391636540090276,
          0.2532397971877482,
          3.506025212355241,
          -0.1304027954516296,
          1.4096737774523784,
          -0.8674073066239434,
          -0.8898548518109929,
          0.35582766785731834,
          0.34450821418264216,
          -0.297812744911467,
          0.34335964438347827,
          -0.2496674061735822,
          0.4789485127039313,
          0.37609121383570626,
          0.7455258317390007,
          0.2990395349876742,
          -0.5017499772487979,
          1.4844878016612748,
          0.46169255147292665,
          0.620678011289812,
          0.35378558658561854,
          0.458233988499218,
          2.4822493489573527,
          0.05013307749671539,
          2.434608892910952,
          0.006652029774911771,
          0.39814164562548865,
          0.08820843783739672,
          0.2814853413202644,
          0.28154647821198653,
          0.5695422411062884,
          -0.6225685862911234,
          0.08346717878365571,
          -0.3630420206466587,
          -0.8325584299303678,
          0.5542434606438751,
          0.34813716400960015,
          0.2723920629622459,
          0.24054941011840547,
          1.9725239202252205,
          2.2674485526194696,
          2.332572406631635,
          0.7647247859883803,
          -0.2909223225055069,
          0.727902120073205,
          -0.10863190779638597,
          -0.023958014274306858,
          0.4274008676600178,
          0.13234761608086673,
          0.4302542056653751,
          0.16123440773012365,
          1.3906376580577036,
          0.5664874881335191,
          -0.2871729855055824,
          0.3937716976464483,
          1.3938633370011786,
          -0.2552192170947395,
          -0.9135757376055773,
          -0.01942726081643376,
          0.6685921621917723,
          0.48928617371339533,
          3.58788060890479,
          -0.06961098559778273,
          -0.3565016935267973,
          -0.45499952981057057,
          0.3111662079749265,
          0.9589005738373779,
          0.04544252254751596,
          0.17683885950140943,
          0.5996911061760035,
          0.06880749562139134,
          0.16544034074171177,
          0.20664008927621416,
          -0.40356269208773843,
          -0.36155799662326027,
          -0.6227251930035759,
          4.0522751386559746,
          0.05431648964353159,
          -0.06336347515243727,
          0.4482569135494364,
          -0.17908549887363387,
          -0.20959262704938827,
          0.03129055256247465,
          -0.06499102574884884,
          -0.25154638488465203,
          -2.3042246699824034,
          -0.011671502221250154,
          0.07754852779540078,
          0.09960059523738286,
          -0.6311085764347449,
          0.02681162527484256,
          1.0108302803954357,
          0.19549725584606947,
          0.22989887033532505,
          0.6334221344307659,
          0.29038599189201597,
          -0.15927915426156794,
          0.38707781470718533,
          0.23250506070701082,
          -0.22183128630405385,
          -0.003436324642119101,
          -0.15158483679798887,
          -0.00588665043144462,
          -0.27787105791860445,
          -0.38689407010929283,
          -0.24829014770728494,
          0.2949997268464022,
          0.369578800231982,
          7.298146992706416,
          7.757525650425182,
          7.602616811715547,
          -0.019492316402636187,
          0.010178385112464798,
          0.3091012239704334,
          -0.2765718185415196,
          -0.07840031388494055,
          1.545597130449264,
          5.378611598426038,
          0.5101646051372639,
          0.1960670770257723,
          -0.2183770307526044,
          0.6132089721882549,
          -0.24705182637323628,
          1.4006879187741639,
          -0.06460308253961503,
          -0.24963928022228174,
          1.6380201760916886,
          1.2291563045303928,
          0.39888008162539906,
          2.694596994609631,
          3.8675391761031017,
          0.3741641020452977,
          5.642050371434871,
          -0.8910246291564545,
          -0.30035810244166933,
          -0.06895250933161508,
          -0.3329793198284187,
          0.7211816625568219,
          0.4646696419820368,
          3.323214114847142,
          2.717652384653679,
          -0.23247154055471622,
          0.21749489628751897,
          0.3559020473240476,
          -0.26731969696471236,
          -1.8902701220404665,
          0.5525432716689797,
          0.3649919056252274,
          0.3312203089600366,
          -0.08994962301846177,
          -0.06073408889469165,
          0.318266959808216,
          -0.08633636729861147,
          -0.32208580480786625,
          0.3415474346225093,
          1.0492753568785038,
          -0.42255270122412736,
          0.08381744944909617,
          -0.060328948117292905,
          0.038013467045373374,
          0.3801605502018417,
          1.7028194406145079,
          3.2479381994869883,
          -0.47884325427091307,
          -1.6601520629064477,
          0.04387752626103638,
          0.8507310265018148,
          -0.3513615976117149,
          -0.5017312753523572,
          0.019499722279311394,
          -0.14654125499670645,
          1.9814197595429388,
          0.20106194007079406,
          0.3478117279371877,
          0.3428894934114859,
          -0.42335923654632096,
          0.9984673796159264,
          3.8164846067351936,
          1.2391262100049336,
          4.723906454747574,
          0.2361548203525388,
          0.33056416588353826,
          4.007091415067616,
          -1.6366569071890882,
          1.4139421842395907,
          0.5238595381991614,
          -0.31876067811500125,
          -0.4934077740182104,
          0.9868720717130552,
          0.433946301913482,
          2.1580828417234033,
          -0.6678007648071365,
          -0.1556185441700439,
          -0.4975320582003418,
          -0.037674450075618426,
          -0.06699089443160401,
          0.41088765091974744,
          1.428038192176013,
          -0.07749909533201844,
          -0.1419469831350481,
          -0.26692884374584586,
          -1.855203571833186,
          1.0401754933882374,
          0.6277280045045347,
          2.075001556247204,
          1.3137250391196709,
          0.8662484647874725,
          -0.7972491986590673,
          -0.5848915271705781,
          0.09715861977023739,
          -0.5885721721005664,
          0.5520254666540922,
          1.1513683754578417,
          -3.4709147169066377,
          -0.6383654572473483,
          -0.44578899794558513,
          -0.058256680354678285,
          0.5898316528350571,
          0.1597929831232073,
          -0.8009380810792257,
          -0.006596851120625432,
          0.2955613136717911,
          0.06775944648991765,
          2.955473766781157,
          -0.40214011253188164,
          -0.16057016125918308,
          -0.7044710249162732,
          -0.3751595918300179,
          -0.5565584519306455,
          -2.0878734252517197,
          7.933825021741874,
          3.089496027846595,
          -0.44499676233397967,
          1.0887434308271169,
          0.36682839873933837,
          1.7380482183410733,
          0.737986899151627,
          -0.06889253372575566,
          -1.8158238326019738,
          0.2159256678049296,
          -0.7822793390846613,
          -0.29220649816990896,
          0.6018024287414478,
          0.10136984824611052,
          0.10415441157059718,
          -0.3744513309130127,
          0.14571510957051242,
          -1.140796727471576,
          -0.13900368362247165,
          0.258003777807456,
          -0.740888731389069,
          2.9101451406529777
         ],
         "xaxis": "x",
         "y": [
          0.4314257751612378,
          0.22415051382338794,
          0.8228617095147759,
          0.7182360405820936,
          0.8152894237045527,
          0.8252203353514755,
          1.3271796383138774,
          1.2318076068352428,
          0.760434460293045,
          1.0361121388169805,
          0.1177255563042612,
          0.16616668880010238,
          0.30346419712021744,
          0.23306424977432944,
          0.6754153529251303,
          1.711412656616373,
          0.07800267051538133,
          0.544530488990945,
          0.7006725628843,
          0.040794319168580784,
          0.46892995407691823,
          0.6165275019807341,
          0.16090250144681953,
          0.8533286995878375,
          0.8402989619854159,
          0.28664457011164685,
          0.6477412299322066,
          0.07050023118137365,
          0.4810678060315448,
          0.0759015596988976,
          0.19851934215683653,
          0.026693171513053792,
          0.4592409946726597,
          0.14815478635234056,
          0.02014162520727287,
          0.8647467961022486,
          0.4919781683131538,
          0.8537968739989251,
          0.5460864114803582,
          1.821239902573661,
          0.3853841405273344,
          0.4447403847342199,
          0.9557645876207755,
          0.2597020540611426,
          1.212305278066234,
          0.11199308262048599,
          2.301176978452315,
          0.14417795359183713,
          1.3128027499665704,
          0.18345774472912704,
          0.49886450530067594,
          0.5147525958091747,
          0.9041546483894275,
          0.23510713481837384,
          0.380432973447339,
          0.571169682369849,
          0.06275743283153833,
          1.1801824988743512,
          0.17794136472193897,
          1.374253455403362,
          1.260403034928964,
          0.13491216140076354,
          0.02848272792343353,
          0.6773242794317157,
          0.9657121096276219,
          0.3829475436974469,
          0.03872236515858849,
          0.660975463320917,
          0.6087052950589987,
          0.37353279256396854,
          0.4475404885696101,
          0.7812877997114893,
          0.764827153158269,
          0.7065937266198503,
          0.7235272790866587,
          0.33744730091337394,
          0.5076058807819434,
          1.170092135561328,
          0.10493921750241328,
          1.133659665219458,
          0.9284892580907464,
          0.39922931376579174,
          1.299775691014051,
          1.5803062714130478,
          0.6320885048919604,
          0.8141554590719517,
          0.3373983400347868,
          1.0495165939917022,
          0.40160586163401735,
          0.5754164990066932,
          0.8856572177553145,
          0.4793210015825829,
          0.16090834333357548,
          0.26682858589592723,
          1.330069491179481,
          1.0353484513607425,
          0.14687201032037592,
          0.535234302656303,
          0.27131781963638113,
          0.3973734109053799,
          0.2899174009381764,
          0.8165278603075325,
          0.7141955025170589,
          0.027690710355305237,
          0.4023210882995775,
          0.2016528741003853,
          0.04399655095507085,
          0.6774454603906993,
          0.009642777327008262,
          0.2199062907907403,
          1.7460242592305018,
          0.5864785901577321,
          0.08061695533336101,
          1.4210140864110163,
          0.5018444656849578,
          0.2969555246574364,
          1.15928280180996,
          0.7964805173424285,
          1.9185551635421614,
          0.1536226062173793,
          0.8470122523809216,
          1.1097622958400952,
          0.912767578571757,
          0.7424391057215308,
          0.8088592042598409,
          1.7031216585755322,
          0.12382166300160925,
          0.2749326439187495,
          0.14990858175709804,
          0.6923861150313811,
          1.6386317002631354,
          1.178500270415692,
          0.7858500164305655,
          0.04138847463725747,
          0.2420607242675703,
          0.8185736643198814,
          0.4752726537893317,
          0.7316393128437931,
          0.348446250031104,
          0.25459449489978203,
          0.2907772664537311,
          0.7875201596261924,
          1.462640654930429,
          1.3496797587996476,
          1.4196754183719653,
          0.8701113577635747,
          0.2031140744970725,
          0.9016384042973766,
          0.04355353836711738,
          0.2503253260121139,
          0.3584218817037393,
          0.930744213463586,
          1.049174633602781,
          0.6241624814234689,
          0.4907675644213349,
          0.3255207074628347,
          0.761069172006881,
          1.085035569799399,
          0.36868357134543006,
          0.6154147456065336,
          0.02920639941861708,
          1.1798843049421246,
          1.3174368697504542,
          0.03855833476890471,
          1.525584113784419,
          1.3463064216469258,
          0.8695797363037664,
          0.7968295771758721,
          0.8753629455022547,
          0.8963681926804642,
          0.2513737497198804,
          0.3836885497590202,
          0.4508229101379407,
          0.9536017423586227,
          0.5571810008869691,
          0.9352452667071014,
          0.6064935368218353,
          0.8146804454204746,
          0.26892977359580916,
          0.7259693885299956,
          1.0563687232590775,
          1.2498090054402011,
          0.0777132634164471,
          0.006898576379704103,
          0.13046627167224725,
          1.9716354934417983,
          1.0682481385066032,
          0.9771097175107057,
          0.1866330903509115,
          0.23834477364399323,
          0.9248672745856089,
          0.03554336909056128,
          0.34426231634694027,
          0.3071964363668279,
          0.8085658222640498,
          0.3061712803223351,
          1.0466485755365385,
          0.8202305372304813,
          0.7795870314000412,
          0.5014642912113776,
          0.6596588215918484,
          1.9730785510265636,
          1.0650753501907333,
          0.7120883316138417,
          0.3157214393484017,
          1.1034278291862951,
          0.5421490536219926,
          0.28195789736339466,
          0.15557541444869333,
          1.1478988174187854,
          1.5490793237400426,
          0.5479244980550354,
          0.3808491003732904,
          1.1055145818506336,
          0.24676201773160825,
          1.283756693256247,
          0.5925278685971547,
          0.22310708260217132,
          0.2866466758297081,
          0.5200341081794405,
          0.48216839098377345,
          0.2954186582236984,
          1.2404761247060039,
          0.4437579352791184,
          0.23859321310147683,
          0.16253382041005837,
          0.07860536168422577,
          1.1802097594736585,
          1.3527208518257285,
          1.3944442571432503,
          1.3300043832627395,
          0.3753206792987981,
          1.0124940982194928,
          0.7368617411826048,
          0.003272963392596659,
          0.5945845917168515,
          0.5127157272993186,
          1.499933704600499,
          1.0730099499550343,
          0.11421591066877172,
          0.5781256381255189,
          2.14675484205388,
          0.7043291614698244,
          0.43372825103512924,
          0.6097069496049256,
          1.2657334398349638,
          0.33290560651461965,
          0.3463778613500104,
          0.6454504154110547,
          0.14660692811763523,
          0.4544917127185071,
          1.702324691795271,
          1.0322633509729608,
          0.586280008349043,
          0.08212927327464538,
          0.3251545320403437,
          0.14100650583720742,
          1.507773132810665,
          0.8973862020777303,
          1.299379296516613,
          0.11308360824816756,
          0.14309950439766708,
          1.00957231491299,
          1.7202044253780668,
          0.2888722152750687,
          1.3155030299792365,
          0.2931120827826849,
          0.5534942629355152,
          1.0603367442615157,
          0.6485459174687287,
          0.04095187103836527,
          0.2810991116832501,
          0.6626459958728086,
          0.7400653901790828,
          1.1615029158500105,
          0.5035517223497225,
          0.13607439769399643,
          0.34643496001148677,
          0.2503762761659693,
          0.5622918751633967,
          0.7877433312026881,
          0.4066144845807094,
          0.5814475597157464,
          0.14980817032625854,
          1.7958036412626432,
          0.8607548939230897,
          2.243753700357363,
          0.11093403990629509,
          0.540561827246156,
          0.9873987719869064,
          0.11365901416513395,
          0.14794919806500711,
          0.6115921549023718,
          0.6692486781550626,
          0.0546338133220689,
          0.09070193954139648,
          0.3241549677147182,
          0.22055755933074103,
          0.13430389075786922,
          0.05195086451740149,
          0.0208244471986943,
          0.019813339093744022,
          0.8534930401559211,
          0.812513247950918,
          0.21233560329797277,
          0.5036466118959363,
          2.475480425612571,
          0.10024836735554203,
          0.1557297636427277,
          1.4277342999686902,
          0.4452027819682628,
          0.20077509230121252,
          0.06780226038687687,
          0.7272404218226836,
          0.8732816545348324,
          1.789129424953356,
          0.6887675220946041,
          0.8328217937001305,
          0.011325469903012043,
          0.3671912337791502,
          1.4085149677109363,
          0.5644173562269613,
          1.089155225559723,
          0.245908842052438,
          0.4934146508778036,
          0.6663678072203505,
          0.2908703334741516,
          1.462672131230119,
          0.3303185992017278,
          0.934337977174127,
          0.11830359963097391,
          1.309313760130567,
          1.7721122373561569,
          0.761882220510478,
          0.45219788799966915,
          0.8379309948358802,
          0.3109641234059716,
          2.5092726893542965,
          0.4514183569030953,
          0.062181489314812544,
          0.6819627626508865,
          1.5025240986057165,
          0.21487427375342907,
          0.3232636492560633,
          1.2163103225446759,
          2.513885473490844,
          0.31537753456339773,
          0.9408904011150566,
          0.3829674357923024,
          1.3694646287638237,
          0.829451400334316,
          0.44644293474030816,
          0.013994274911534176,
          0.6667458757261584,
          1.0163788589369767,
          0.4399717448059473,
          0.3079326781201851,
          0.29176544632946655,
          0.7916647389958008,
          0.3725555618080592,
          0.6197698690880706,
          0.32033373310166396,
          0.14252215522185552,
          0.32552691361543484,
          0.6228412476218589,
          0.24231959307560924,
          0.004983948897753488,
          1.2407813712399132,
          0.26281668697739075,
          0.9293177551469596,
          0.10439070945975573,
          0.3778036193504271,
          0.38053095997082614,
          0.8606770659794246,
          1.527824366050885,
          0.012162405369554416,
          0.18191209513688916,
          0.6736700185111516,
          1.100492780547514,
          0.33474467595101925,
          0.9003458560493938,
          1.4367059933749116,
          0.6432358365672519,
          0.41278958199317295,
          1.9034308527320551,
          0.2423363478774371,
          0.1804598686230763,
          1.5526145301745697,
          0.7748548282003289,
          0.7872116195757721,
          0.6227620445160782,
          0.3027864230135181,
          0.4255580849986245,
          0.7176845592360968,
          0.6875166582216471,
          0.692139872926868,
          1.159691024728186,
          1.0468732777070744,
          1.247547009000916,
          1.4281512534129404,
          1.2846807124566488,
          0.4641909991434775,
          0.025496941807934655,
          0.3321931056825706,
          0.37913996566727665,
          0.2706138403493015,
          0.3626722561567727,
          0.25202041775700473,
          0.1579550003498455,
          1.1805322122733755,
          0.21993492074265739,
          0.8886784688204588,
          0.9145408179203908,
          1.258671723557182,
          0.027776127816615738,
          1.2238340888394283,
          0.4795926350533452,
          0.5984780052728947,
          1.472241602071137,
          2.2664865764945805,
          0.18613923161791446,
          0.26002274786930957,
          0.13407208805020404,
          1.0514025756802658,
          1.0918980821219364,
          0.22980708765095967,
          0.013780637531189827,
          0.5378640942741962,
          0.23917585699953645,
          1.1472678044451483,
          0.02042125170936758,
          0.9480902053011623,
          0.006711759821412229,
          1.2691678951836003,
          0.6190063373690892,
          0.20780179551403585,
          0.17749480999961165,
          0.4055491057812666,
          0.7877609681280806,
          0.04244770814639144,
          0.2183883004821397,
          0.6935783081250906,
          0.22454048612432212,
          0.0333111356620766,
          0.6789076010138088,
          0.9149948603827562,
          0.9410373185069263,
          0.8847819253059015,
          1.3136919866742778,
          0.48975163179182285,
          0.06686755718324894,
          0.6682395773995082,
          0.7811145635263989,
          0.9175018789690608,
          0.06959457607039199,
          0.549735842449415,
          0.9657924932248766,
          0.8139096394254552,
          0.06500904078467587,
          0.551384939996971,
          1.1011214250962733,
          1.044396442334206,
          0.0925141902397508,
          1.2448606806851845,
          0.43584924009776,
          0.13625875813882693,
          1.6033607175708797,
          0.6261567710764677,
          0.3922315645635143,
          0.9823923608406511,
          0.18265238905534809,
          1.7754941863031797,
          0.6799197891936413,
          0.9232251594225769,
          0.18190303874050895,
          0.3702913254246924,
          0.5426657090298997,
          0.32051448789110376,
          0.3244077607408686,
          0.4817002555820227,
          0.4480738653955417,
          0.7048253897101867,
          0.5780803004632248,
          0.3949513221219258,
          0.9377071319475117,
          0.36293697275302306,
          0.3415618349904672,
          0.20547024335333536,
          0.7628387634927385,
          0.49003494721723867,
          0.04008768025876752,
          0.5095173676991739,
          0.007562897640123959,
          0.5640255267074296,
          0.09931070051126484,
          0.6943237620243422,
          0.621025523808563,
          1.171272255638034,
          1.0831665488230195,
          0.06214835715837861,
          0.34839802531718417,
          0.8682389827569527,
          0.6825564189145134,
          0.4415540124919641,
          0.23413890040300406,
          0.30425812131216134,
          0.5596021381729481,
          1.2600011504884054,
          0.7254550003045639,
          0.9152739690711388,
          0.3613072468335026,
          1.2027323046989524,
          0.30509443380507767,
          0.04083451474866271,
          0.9499969156903011,
          0.12396289309144858,
          0.33668067204069824,
          0.2615893640701022,
          1.846429779585965,
          0.8535686793596223,
          0.3554791023672493,
          0.36989160418185174,
          1.3035583336649945,
          0.38643374562047833,
          1.2556918020334933,
          0.018528798436405987,
          0.4695404734699018,
          0.6176256632278734,
          1.2132048179698736,
          0.054594446739022244,
          0.3786029216921925,
          0.8785588484404283,
          0.2362577787965491,
          0.6865396906406418,
          0.06846610942677729,
          0.33511128745355806,
          1.027201965279305,
          0.07588731689624985,
          0.41867891056047857,
          0.2096414164266843,
          0.5963305298505281,
          0.644777396620784,
          0.4984412033488229,
          0.8836380944185708,
          0.1853166712704089,
          0.07361419708010872,
          0.8391245336711535,
          0.1844200621160785,
          0.24012547783447966,
          0.03857506940850949,
          0.08240184087285794,
          0.4782872544744437,
          1.1664598833502149,
          0.012068739037575488,
          0.07677012945581697,
          0.17004234393057352,
          0.4527839957569296,
          0.02629991710418655,
          0.7813122868967809,
          0.5356563436202135,
          0.5032320288179731,
          1.276266927539715,
          0.30761640846371285,
          0.27996206634502274,
          0.3538368505825563,
          1.3403198095647701,
          0.5361856793004622,
          0.002262904761487795,
          0.08861123929900848,
          0.0032665340927962158,
          0.3850733035059976,
          0.966406440382375,
          0.113960422585887,
          0.14431967217647673,
          0.2913641981413105,
          0.964279315447002,
          1.052134906493512,
          1.2153849316703338,
          0.04721479255737416,
          0.008062053957162647,
          0.5778335446740447,
          0.39948519235427443,
          0.10246060144555177,
          0.6008012966628392,
          1.292568511802196,
          0.500548347793953,
          0.31224354556433065,
          0.1736158417033984,
          0.8620296313742778,
          0.5850322981642838,
          2.0905598377810777,
          0.04766675294788216,
          0.17718395700464398,
          0.3640177629705238,
          0.6794894459320602,
          0.6592649781792597,
          1.4317294331274448,
          0.9996485288368716,
          0.37212154393656766,
          1.1446721932276205,
          0.6270398717811043,
          0.5293912420399628,
          0.19540143233117677,
          0.1529288232944206,
          0.48729879996298553,
          0.9190817774726066,
          0.5539969814261564,
          0.7844005661998006,
          0.21000149293496453,
          0.14428776386290706,
          0.2847524992604225,
          0.252611848524437,
          1.0777481943202312,
          1.5505356012211102,
          0.30877557646142767,
          0.4441963516486774,
          0.2604764427991347,
          0.13290441903091985,
          0.4381362038105069,
          0.11943660857345739,
          0.27088262376160377,
          0.5297588148029057,
          1.0905664569101876,
          0.4716745036249883,
          0.13684953454223908,
          0.06956418984755473,
          0.03006435028579947,
          0.9496601814060536,
          0.9359065782007636,
          1.3731513875456447,
          0.6600040123797781,
          0.3970385685412087,
          0.030122894587444816,
          1.585487288596035,
          0.300343178234307,
          0.6284511409225528,
          0.018152854991242615,
          0.23600363869386823,
          0.6524102516671442,
          0.18259883475092478,
          0.5501220813841482,
          0.3487896744771702,
          0.3476944834798421,
          1.0876009217177454,
          1.103789562169287,
          0.8708909474050615,
          1.2434220754068739,
          0.1500994925244639,
          0.6265018776595005,
          0.8183571281416472,
          1.2742211864978887,
          0.8670097597571637,
          0.857766745422813,
          0.37732434210704024,
          0.27562735624179646,
          1.0592376422808443,
          1.017846149952405,
          0.7461473782869072,
          0.6060725981474032,
          0.2048784041204529,
          0.7821864499677847,
          0.06330055911296277,
          0.02923521927231108,
          0.5738113594330811,
          1.772439657469361,
          0.08512686813026284,
          0.11611642428406987,
          0.341303202267919,
          0.8273025202863412,
          0.8387481421840952,
          0.8251617584821291,
          1.2226094842782003,
          0.39058330017509896,
          0.38621490384481566,
          0.38411240618160625,
          0.4138168037314021,
          0.4202974927322265,
          0.6785170521220009,
          0.7534906401379583,
          0.6753441595553463,
          0.7018259703484353,
          0.6045537722465725,
          0.9243860067484384,
          0.14358383356401846,
          0.9885950793577233,
          0.18209738165590095,
          0.8791127988759563,
          0.007817839630946313,
          0.23339273189749749,
          0.07323952047601444,
          1.26560058283466,
          0.16887091483139863,
          0.2012650827559861,
          0.4402275695131121,
          0.3032459811753382,
          0.6178317680740756,
          0.5987674753959524,
          1.0311257665212183,
          0.863067793993543,
          0.6640228298402211,
          0.8865071349301927,
          1.0728877493018762,
          0.9830251656469737,
          1.343611590764125,
          0.07377386962588107,
          1.0281230986171304,
          0.35643876999815827,
          1.5039968399385084,
          0.39641055497483835,
          0.6986954130975239,
          0.06707120225097114,
          0.08527263285326582,
          0.27411239433826357,
          0.15102507063151593,
          0.7951455697616082,
          0.37287525514448594,
          0.28734580840290697,
          1.2512568100056614,
          1.3977883044494022
         ],
         "yaxis": "y"
        },
        {
         "customdata": [
          [
           "AQP9"
          ],
          [
           "CCL5"
          ],
          [
           "CD14"
          ],
          [
           "CD163"
          ],
          [
           "CD244"
          ],
          [
           "CD68"
          ],
          [
           "CEBPB"
          ],
          [
           "CXCL2"
          ],
          [
           "EIF4EBP1"
          ],
          [
           "FCAR"
          ],
          [
           "FCGRT"
          ],
          [
           "FCN1"
          ],
          [
           "GZMA"
          ],
          [
           "IFNGR2"
          ],
          [
           "LILRA5"
          ],
          [
           "LILRB4"
          ],
          [
           "LYZ"
          ],
          [
           "MYD88"
          ],
          [
           "NCR1"
          ],
          [
           "NKG7"
          ],
          [
           "NLRP3"
          ],
          [
           "NOD2"
          ],
          [
           "THBS1"
          ],
          [
           "TNFRSF1A"
          ],
          [
           "TNFSF13"
          ],
          [
           "TREM1"
          ]
         ],
         "hovertemplate": "Gene_Regulation=Up Regulated<br>log2_FC=%{x}<br>log10_p=%{y}<br>Gene=%{customdata[0]}<br>Label=%{text}<extra></extra>",
         "legendgroup": "Up Regulated",
         "marker": {
          "color": "green",
          "symbol": "circle"
         },
         "mode": "markers+text",
         "name": "Up Regulated",
         "showlegend": true,
         "text": [
          "AQP9",
          "CCL5",
          "CD14",
          "CD163",
          "CD244",
          "CD68",
          "CEBPB",
          "CXCL2",
          "EIF4EBP1",
          "FCAR",
          "FCGRT",
          "FCN1",
          "GZMA",
          "IFNGR2",
          "LILRA5",
          "LILRB4",
          "LYZ",
          "MYD88",
          "NCR1",
          "NKG7",
          "NLRP3",
          "NOD2",
          "THBS1",
          "TNFRSF1A",
          "TNFSF13",
          "TREM1"
         ],
         "textfont": {
          "size": 10
         },
         "textposition": "top left",
         "type": "scatter",
         "x": [
          4.920597269464151,
          2.318069233580901,
          6.077412391975287,
          3.3460953186650992,
          2.6933165662596075,
          3.499566682346412,
          2.4083872555343477,
          1.6138170352094194,
          1.6313108524444007,
          4.693932321792844,
          2.3262378662792433,
          6.786550193996204,
          2.271600213711211,
          1.7288938493945938,
          5.222321319238303,
          1.8838745588367003,
          4.69043553868017,
          1.6089418725071993,
          2.70999068503364,
          3.340029994244325,
          2.3328861842657953,
          2.130614831286787,
          5.553537578057138,
          1.6611029695082487,
          2.2792659047547232,
          5.654993481053946
         ],
         "xaxis": "x",
         "y": [
          1.5538555986766618,
          1.625106333135125,
          1.6030805735589322,
          1.5546054243120353,
          2.5740472478955567,
          1.5443521913729636,
          3.330175977198355,
          2.4340914103590294,
          1.9418859786204812,
          1.6010823991564611,
          2.054875928509846,
          1.770992614070694,
          1.7285886654302398,
          2.7902852084468712,
          1.6024167568086993,
          1.834887296200141,
          1.6593720320909209,
          1.5545453265258866,
          2.228473390739846,
          1.511942241430361,
          2.456721823417935,
          1.535146162589917,
          2.03032152608489,
          2.37760665500258,
          1.556091630445857,
          1.6811936433760335
         ],
         "yaxis": "y"
        },
        {
         "customdata": [
          [
           "CCND1"
          ],
          [
           "CDH1"
          ],
          [
           "CTLA4"
          ],
          [
           "IL2"
          ],
          [
           "IRF4"
          ]
         ],
         "hovertemplate": "Gene_Regulation=Down Regulated<br>log2_FC=%{x}<br>log10_p=%{y}<br>Gene=%{customdata[0]}<br>Label=%{text}<extra></extra>",
         "legendgroup": "Down Regulated",
         "marker": {
          "color": "red",
          "symbol": "circle"
         },
         "mode": "markers+text",
         "name": "Down Regulated",
         "showlegend": true,
         "text": [
          "CCND1",
          "CDH1",
          "CTLA4",
          "IL2",
          "IRF4"
         ],
         "textfont": {
          "size": 10
         },
         "textposition": "top left",
         "type": "scatter",
         "x": [
          -2.084459874106449,
          -1.6897412099000444,
          -2.1220611012799213,
          -2.149971404688752,
          -1.6339735343858455
         ],
         "xaxis": "x",
         "y": [
          2.7555075525463577,
          3.030502707878962,
          1.9811296389284987,
          2.1380088646361735,
          1.6832439748380266
         ],
         "yaxis": "y"
        }
       ],
       "layout": {
        "legend": {
         "title": {
          "text": "Gene_Regulation"
         },
         "tracegroupgap": 0
        },
        "template": {
         "data": {
          "bar": [
           {
            "error_x": {
             "color": "#2a3f5f"
            },
            "error_y": {
             "color": "#2a3f5f"
            },
            "marker": {
             "line": {
              "color": "#E5ECF6",
              "width": 0.5
             }
            },
            "type": "bar"
           }
          ],
          "barpolar": [
           {
            "marker": {
             "line": {
              "color": "#E5ECF6",
              "width": 0.5
             }
            },
            "type": "barpolar"
           }
          ],
          "carpet": [
           {
            "aaxis": {
             "endlinecolor": "#2a3f5f",
             "gridcolor": "white",
             "linecolor": "white",
             "minorgridcolor": "white",
             "startlinecolor": "#2a3f5f"
            },
            "baxis": {
             "endlinecolor": "#2a3f5f",
             "gridcolor": "white",
             "linecolor": "white",
             "minorgridcolor": "white",
             "startlinecolor": "#2a3f5f"
            },
            "type": "carpet"
           }
          ],
          "choropleth": [
           {
            "colorbar": {
             "outlinewidth": 0,
             "ticks": ""
            },
            "type": "choropleth"
           }
          ],
          "contour": [
           {
            "colorbar": {
             "outlinewidth": 0,
             "ticks": ""
            },
            "colorscale": [
             [
              0,
              "#0d0887"
             ],
             [
              0.1111111111111111,
              "#46039f"
             ],
             [
              0.2222222222222222,
              "#7201a8"
             ],
             [
              0.3333333333333333,
              "#9c179e"
             ],
             [
              0.4444444444444444,
              "#bd3786"
             ],
             [
              0.5555555555555556,
              "#d8576b"
             ],
             [
              0.6666666666666666,
              "#ed7953"
             ],
             [
              0.7777777777777778,
              "#fb9f3a"
             ],
             [
              0.8888888888888888,
              "#fdca26"
             ],
             [
              1,
              "#f0f921"
             ]
            ],
            "type": "contour"
           }
          ],
          "contourcarpet": [
           {
            "colorbar": {
             "outlinewidth": 0,
             "ticks": ""
            },
            "type": "contourcarpet"
           }
          ],
          "heatmap": [
           {
            "colorbar": {
             "outlinewidth": 0,
             "ticks": ""
            },
            "colorscale": [
             [
              0,
              "#0d0887"
             ],
             [
              0.1111111111111111,
              "#46039f"
             ],
             [
              0.2222222222222222,
              "#7201a8"
             ],
             [
              0.3333333333333333,
              "#9c179e"
             ],
             [
              0.4444444444444444,
              "#bd3786"
             ],
             [
              0.5555555555555556,
              "#d8576b"
             ],
             [
              0.6666666666666666,
              "#ed7953"
             ],
             [
              0.7777777777777778,
              "#fb9f3a"
             ],
             [
              0.8888888888888888,
              "#fdca26"
             ],
             [
              1,
              "#f0f921"
             ]
            ],
            "type": "heatmap"
           }
          ],
          "heatmapgl": [
           {
            "colorbar": {
             "outlinewidth": 0,
             "ticks": ""
            },
            "colorscale": [
             [
              0,
              "#0d0887"
             ],
             [
              0.1111111111111111,
              "#46039f"
             ],
             [
              0.2222222222222222,
              "#7201a8"
             ],
             [
              0.3333333333333333,
              "#9c179e"
             ],
             [
              0.4444444444444444,
              "#bd3786"
             ],
             [
              0.5555555555555556,
              "#d8576b"
             ],
             [
              0.6666666666666666,
              "#ed7953"
             ],
             [
              0.7777777777777778,
              "#fb9f3a"
             ],
             [
              0.8888888888888888,
              "#fdca26"
             ],
             [
              1,
              "#f0f921"
             ]
            ],
            "type": "heatmapgl"
           }
          ],
          "histogram": [
           {
            "marker": {
             "colorbar": {
              "outlinewidth": 0,
              "ticks": ""
             }
            },
            "type": "histogram"
           }
          ],
          "histogram2d": [
           {
            "colorbar": {
             "outlinewidth": 0,
             "ticks": ""
            },
            "colorscale": [
             [
              0,
              "#0d0887"
             ],
             [
              0.1111111111111111,
              "#46039f"
             ],
             [
              0.2222222222222222,
              "#7201a8"
             ],
             [
              0.3333333333333333,
              "#9c179e"
             ],
             [
              0.4444444444444444,
              "#bd3786"
             ],
             [
              0.5555555555555556,
              "#d8576b"
             ],
             [
              0.6666666666666666,
              "#ed7953"
             ],
             [
              0.7777777777777778,
              "#fb9f3a"
             ],
             [
              0.8888888888888888,
              "#fdca26"
             ],
             [
              1,
              "#f0f921"
             ]
            ],
            "type": "histogram2d"
           }
          ],
          "histogram2dcontour": [
           {
            "colorbar": {
             "outlinewidth": 0,
             "ticks": ""
            },
            "colorscale": [
             [
              0,
              "#0d0887"
             ],
             [
              0.1111111111111111,
              "#46039f"
             ],
             [
              0.2222222222222222,
              "#7201a8"
             ],
             [
              0.3333333333333333,
              "#9c179e"
             ],
             [
              0.4444444444444444,
              "#bd3786"
             ],
             [
              0.5555555555555556,
              "#d8576b"
             ],
             [
              0.6666666666666666,
              "#ed7953"
             ],
             [
              0.7777777777777778,
              "#fb9f3a"
             ],
             [
              0.8888888888888888,
              "#fdca26"
             ],
             [
              1,
              "#f0f921"
             ]
            ],
            "type": "histogram2dcontour"
           }
          ],
          "mesh3d": [
           {
            "colorbar": {
             "outlinewidth": 0,
             "ticks": ""
            },
            "type": "mesh3d"
           }
          ],
          "parcoords": [
           {
            "line": {
             "colorbar": {
              "outlinewidth": 0,
              "ticks": ""
             }
            },
            "type": "parcoords"
           }
          ],
          "pie": [
           {
            "automargin": true,
            "type": "pie"
           }
          ],
          "scatter": [
           {
            "marker": {
             "colorbar": {
              "outlinewidth": 0,
              "ticks": ""
             }
            },
            "type": "scatter"
           }
          ],
          "scatter3d": [
           {
            "line": {
             "colorbar": {
              "outlinewidth": 0,
              "ticks": ""
             }
            },
            "marker": {
             "colorbar": {
              "outlinewidth": 0,
              "ticks": ""
             }
            },
            "type": "scatter3d"
           }
          ],
          "scattercarpet": [
           {
            "marker": {
             "colorbar": {
              "outlinewidth": 0,
              "ticks": ""
             }
            },
            "type": "scattercarpet"
           }
          ],
          "scattergeo": [
           {
            "marker": {
             "colorbar": {
              "outlinewidth": 0,
              "ticks": ""
             }
            },
            "type": "scattergeo"
           }
          ],
          "scattergl": [
           {
            "marker": {
             "colorbar": {
              "outlinewidth": 0,
              "ticks": ""
             }
            },
            "type": "scattergl"
           }
          ],
          "scattermapbox": [
           {
            "marker": {
             "colorbar": {
              "outlinewidth": 0,
              "ticks": ""
             }
            },
            "type": "scattermapbox"
           }
          ],
          "scatterpolar": [
           {
            "marker": {
             "colorbar": {
              "outlinewidth": 0,
              "ticks": ""
             }
            },
            "type": "scatterpolar"
           }
          ],
          "scatterpolargl": [
           {
            "marker": {
             "colorbar": {
              "outlinewidth": 0,
              "ticks": ""
             }
            },
            "type": "scatterpolargl"
           }
          ],
          "scatterternary": [
           {
            "marker": {
             "colorbar": {
              "outlinewidth": 0,
              "ticks": ""
             }
            },
            "type": "scatterternary"
           }
          ],
          "surface": [
           {
            "colorbar": {
             "outlinewidth": 0,
             "ticks": ""
            },
            "colorscale": [
             [
              0,
              "#0d0887"
             ],
             [
              0.1111111111111111,
              "#46039f"
             ],
             [
              0.2222222222222222,
              "#7201a8"
             ],
             [
              0.3333333333333333,
              "#9c179e"
             ],
             [
              0.4444444444444444,
              "#bd3786"
             ],
             [
              0.5555555555555556,
              "#d8576b"
             ],
             [
              0.6666666666666666,
              "#ed7953"
             ],
             [
              0.7777777777777778,
              "#fb9f3a"
             ],
             [
              0.8888888888888888,
              "#fdca26"
             ],
             [
              1,
              "#f0f921"
             ]
            ],
            "type": "surface"
           }
          ],
          "table": [
           {
            "cells": {
             "fill": {
              "color": "#EBF0F8"
             },
             "line": {
              "color": "white"
             }
            },
            "header": {
             "fill": {
              "color": "#C8D4E3"
             },
             "line": {
              "color": "white"
             }
            },
            "type": "table"
           }
          ]
         },
         "layout": {
          "annotationdefaults": {
           "arrowcolor": "#2a3f5f",
           "arrowhead": 0,
           "arrowwidth": 1
          },
          "coloraxis": {
           "colorbar": {
            "outlinewidth": 0,
            "ticks": ""
           }
          },
          "colorscale": {
           "diverging": [
            [
             0,
             "#8e0152"
            ],
            [
             0.1,
             "#c51b7d"
            ],
            [
             0.2,
             "#de77ae"
            ],
            [
             0.3,
             "#f1b6da"
            ],
            [
             0.4,
             "#fde0ef"
            ],
            [
             0.5,
             "#f7f7f7"
            ],
            [
             0.6,
             "#e6f5d0"
            ],
            [
             0.7,
             "#b8e186"
            ],
            [
             0.8,
             "#7fbc41"
            ],
            [
             0.9,
             "#4d9221"
            ],
            [
             1,
             "#276419"
            ]
           ],
           "sequential": [
            [
             0,
             "#0d0887"
            ],
            [
             0.1111111111111111,
             "#46039f"
            ],
            [
             0.2222222222222222,
             "#7201a8"
            ],
            [
             0.3333333333333333,
             "#9c179e"
            ],
            [
             0.4444444444444444,
             "#bd3786"
            ],
            [
             0.5555555555555556,
             "#d8576b"
            ],
            [
             0.6666666666666666,
             "#ed7953"
            ],
            [
             0.7777777777777778,
             "#fb9f3a"
            ],
            [
             0.8888888888888888,
             "#fdca26"
            ],
            [
             1,
             "#f0f921"
            ]
           ],
           "sequentialminus": [
            [
             0,
             "#0d0887"
            ],
            [
             0.1111111111111111,
             "#46039f"
            ],
            [
             0.2222222222222222,
             "#7201a8"
            ],
            [
             0.3333333333333333,
             "#9c179e"
            ],
            [
             0.4444444444444444,
             "#bd3786"
            ],
            [
             0.5555555555555556,
             "#d8576b"
            ],
            [
             0.6666666666666666,
             "#ed7953"
            ],
            [
             0.7777777777777778,
             "#fb9f3a"
            ],
            [
             0.8888888888888888,
             "#fdca26"
            ],
            [
             1,
             "#f0f921"
            ]
           ]
          },
          "colorway": [
           "#636efa",
           "#EF553B",
           "#00cc96",
           "#ab63fa",
           "#FFA15A",
           "#19d3f3",
           "#FF6692",
           "#B6E880",
           "#FF97FF",
           "#FECB52"
          ],
          "font": {
           "color": "#2a3f5f"
          },
          "geo": {
           "bgcolor": "white",
           "lakecolor": "white",
           "landcolor": "#E5ECF6",
           "showlakes": true,
           "showland": true,
           "subunitcolor": "white"
          },
          "hoverlabel": {
           "align": "left"
          },
          "hovermode": "closest",
          "mapbox": {
           "style": "light"
          },
          "paper_bgcolor": "white",
          "plot_bgcolor": "#E5ECF6",
          "polar": {
           "angularaxis": {
            "gridcolor": "white",
            "linecolor": "white",
            "ticks": ""
           },
           "bgcolor": "#E5ECF6",
           "radialaxis": {
            "gridcolor": "white",
            "linecolor": "white",
            "ticks": ""
           }
          },
          "scene": {
           "xaxis": {
            "backgroundcolor": "#E5ECF6",
            "gridcolor": "white",
            "gridwidth": 2,
            "linecolor": "white",
            "showbackground": true,
            "ticks": "",
            "zerolinecolor": "white"
           },
           "yaxis": {
            "backgroundcolor": "#E5ECF6",
            "gridcolor": "white",
            "gridwidth": 2,
            "linecolor": "white",
            "showbackground": true,
            "ticks": "",
            "zerolinecolor": "white"
           },
           "zaxis": {
            "backgroundcolor": "#E5ECF6",
            "gridcolor": "white",
            "gridwidth": 2,
            "linecolor": "white",
            "showbackground": true,
            "ticks": "",
            "zerolinecolor": "white"
           }
          },
          "shapedefaults": {
           "line": {
            "color": "#2a3f5f"
           }
          },
          "ternary": {
           "aaxis": {
            "gridcolor": "white",
            "linecolor": "white",
            "ticks": ""
           },
           "baxis": {
            "gridcolor": "white",
            "linecolor": "white",
            "ticks": ""
           },
           "bgcolor": "#E5ECF6",
           "caxis": {
            "gridcolor": "white",
            "linecolor": "white",
            "ticks": ""
           }
          },
          "title": {
           "x": 0.05
          },
          "xaxis": {
           "automargin": true,
           "gridcolor": "white",
           "linecolor": "white",
           "ticks": "",
           "title": {
            "standoff": 15
           },
           "zerolinecolor": "white",
           "zerolinewidth": 2
          },
          "yaxis": {
           "automargin": true,
           "gridcolor": "white",
           "linecolor": "white",
           "ticks": "",
           "title": {
            "standoff": 15
           },
           "zerolinecolor": "white",
           "zerolinewidth": 2
          }
         }
        },
        "title": {
         "text": "Nanostring mRNA Analysis of Blood Vs Lymph Node"
        },
        "xaxis": {
         "anchor": "y",
         "domain": [
          0,
          1
         ],
         "title": {
          "text": "log2_FC"
         }
        },
        "yaxis": {
         "anchor": "x",
         "domain": [
          0,
          1
         ],
         "title": {
          "text": "log10_p"
         }
        }
       }
      },
      "text/html": [
       "<div>\n",
       "        \n",
       "        \n",
       "            <div id=\"ed7de206-6730-4aae-92f5-788c2fb5394d\" class=\"plotly-graph-div\" style=\"height:525px; width:100%;\"></div>\n",
       "            <script type=\"text/javascript\">\n",
       "                require([\"plotly\"], function(Plotly) {\n",
       "                    window.PLOTLYENV=window.PLOTLYENV || {};\n",
       "                    \n",
       "                if (document.getElementById(\"ed7de206-6730-4aae-92f5-788c2fb5394d\")) {\n",
       "                    Plotly.newPlot(\n",
       "                        'ed7de206-6730-4aae-92f5-788c2fb5394d',\n",
       "                        [{\"customdata\": [[\"A2M\"], [\"ACVR1C\"], [\"ADAM12\"], [\"ADGRE1\"], [\"ADM\"], [\"ADORA2A\"], [\"AKT1\"], [\"ALDOA\"], [\"ALDOC\"], [\"ANGPT1\"], [\"ANGPT2\"], [\"ANGPTL4\"], [\"ANLN\"], [\"APC\"], [\"APH1B\"], [\"API5\"], [\"APLNR\"], [\"APOE\"], [\"APOL6\"], [\"AREG\"], [\"ARG1\"], [\"ARG2\"], [\"ARID1A\"], [\"ARNT2\"], [\"ATF3\"], [\"ATM\"], [\"AXIN1\"], [\"AXL\"], [\"B2M\"], [\"BAD\"], [\"BAMBI\"], [\"BATF3\"], [\"BAX\"], [\"BBC3\"], [\"BBS1\"], [\"BCAT1\"], [\"BCL2\"], [\"BCL2L1\"], [\"BCL6B\"], [\"BID\"], [\"BIRC3\"], [\"BIRC5\"], [\"BLK\"], [\"BLM\"], [\"BMP2\"], [\"BNIP3\"], [\"BNIP3L\"], [\"BRCA1\"], [\"BRCA2\"], [\"BRD3\"], [\"BRD4\"], [\"BRIP1\"], [\"BTLA\"], [\"C1QA\"], [\"C1QB\"], [\"C2\"], [\"C5\"], [\"C5AR1\"], [\"C7\"], [\"CASP1\"], [\"CASP3\"], [\"CASP8\"], [\"CASP9\"], [\"CBLC\"], [\"CCL13\"], [\"CCL14\"], [\"CCL18\"], [\"CCL19\"], [\"CCL2\"], [\"CCL20\"], [\"CCL21\"], [\"CCL22\"], [\"CCL3/L1\"], [\"CCL4\"], [\"CCL7\"], [\"CCL8\"], [\"CCNA1\"], [\"CCNB1\"], [\"CCND2\"], [\"CCND3\"], [\"CCNE1\"], [\"CCNO\"], [\"CCR2\"], [\"CCR4\"], [\"CCR5\"], [\"CD19\"], [\"CD1C\"], [\"CD2\"], [\"CD209\"], [\"CD247\"], [\"CD27\"], [\"CD274\"], [\"CD276\"], [\"CD28\"], [\"CD300A\"], [\"CD36\"], [\"CD38\"], [\"CD3D\"], [\"CD3E\"], [\"CD3G\"], [\"CD4\"], [\"CD40\"], [\"CD40LG\"], [\"CD44\"], [\"CD45RA\"], [\"CD45RB\"], [\"CD45RO\"], [\"CD47\"], [\"CD48\"], [\"CD5\"], [\"CD58\"], [\"CD6\"], [\"CD69\"], [\"CD7\"], [\"CD70\"], [\"CD74\"], [\"CD79A\"], [\"CD79B\"], [\"CD80\"], [\"CD84\"], [\"CD86\"], [\"CD8A\"], [\"CD8B\"], [\"CD96\"], [\"CDC20\"], [\"CDC25C\"], [\"CDH11\"], [\"CDH2\"], [\"CDH5\"], [\"CDK2\"], [\"CDK6\"], [\"CDKN1A\"], [\"CDKN1C\"], [\"CDKN2A\"], [\"CDKN2B\"], [\"CEACAM3\"], [\"CENPF\"], [\"CEP55\"], [\"CES3\"], [\"CHUK\"], [\"CLEC14A\"], [\"CLEC4E\"], [\"CLEC5A\"], [\"CLEC7A\"], [\"CLECL1\"], [\"CMKLR1\"], [\"CNTFR\"], [\"COL11A1\"], [\"COL11A2\"], [\"COL17A1\"], [\"COL4A5\"], [\"COL5A1\"], [\"COL6A3\"], [\"COMP\"], [\"CPA3\"], [\"CRABP2\"], [\"CSF1\"], [\"CSF1R\"], [\"CSF2\"], [\"CSF2RB\"], [\"CSF3\"], [\"CSF3R\"], [\"CST2\"], [\"CTAG1B\"], [\"CTNNB1\"], [\"CTSS\"], [\"CTSW\"], [\"CX3CL1\"], [\"CX3CR1\"], [\"CXCL1\"], [\"CXCL10\"], [\"CXCL11\"], [\"CXCL12\"], [\"CXCL13\"], [\"CXCL14\"], [\"CXCL16\"], [\"CXCL3\"], [\"CXCL5\"], [\"CXCL6\"], [\"CXCL8\"], [\"CXCL9\"], [\"CXCR2\"], [\"CXCR3\"], [\"CXCR4\"], [\"CXCR6\"], [\"CXorf36\"], [\"CYBB\"], [\"DAB2\"], [\"DDB2\"], [\"DEFB134\"], [\"DEPTOR\"], [\"DKK1\"], [\"DLL1\"], [\"DLL4\"], [\"DNMT1\"], [\"DPP4\"], [\"DTX3L\"], [\"DTX4\"], [\"DUSP1\"], [\"DUSP2\"], [\"DUSP5\"], [\"E2F3\"], [\"EDN1\"], [\"EGF\"], [\"EGFR\"], [\"EGR1\"], [\"EIF2AK2\"], [\"EIF2B4\"], [\"EIF5AL1\"], [\"ELOB\"], [\"ENO1\"], [\"ENTPD1\"], [\"EOMES\"], [\"EPCAM\"], [\"EPM2AIP1\"], [\"ERBB2\"], [\"ERO1A\"], [\"ESR1\"], [\"EXO1\"], [\"EZH2\"], [\"F2RL1\"], [\"FADD\"], [\"FAM124B\"], [\"FAM30A\"], [\"FANCA\"], [\"FAP\"], [\"FAS\"], [\"FASLG\"], [\"FBP1\"], [\"FCGR1A\"], [\"FCGR2A\"], [\"FCGR2B\"], [\"FCGR3A/B\"], [\"FCRL2\"], [\"FGF13\"], [\"FGF18\"], [\"FGF9\"], [\"FGFR1\"], [\"FLNB\"], [\"FLT1\"], [\"FOSL1\"], [\"FOXP3\"], [\"FPR1\"], [\"FPR3\"], [\"FSTL3\"], [\"FUT4\"], [\"FYN\"], [\"FZD8\"], [\"FZD9\"], [\"GAS1\"], [\"GBP1\"], [\"GBP2\"], [\"GBP4\"], [\"GHR\"], [\"GIMAP4\"], [\"GIMAP6\"], [\"GLI1\"], [\"GLS\"], [\"GLUD1\"], [\"GLUL\"], [\"GMIP\"], [\"GNG4\"], [\"GNLY\"], [\"GOT1\"], [\"GOT2\"], [\"GPC4\"], [\"GPR160\"], [\"GPSM3\"], [\"GZMB\"], [\"GZMH\"], [\"GZMK\"], [\"GZMM\"], [\"H2AFX\"], [\"HAVCR2\"], [\"HCK\"], [\"HDAC11\"], [\"HDAC3\"], [\"HDAC4\"], [\"HDAC5\"], [\"HDC\"], [\"HELLS\"], [\"HERC6\"], [\"HES1\"], [\"HEY1\"], [\"HIF1A\"], [\"HK1\"], [\"HK2\"], [\"HLA-A\"], [\"HLA-B\"], [\"HLA-C\"], [\"HLA-DMA\"], [\"HLA-DMB\"], [\"HLA-DOA\"], [\"HLA-DOB\"], [\"HLA-DPA1\"], [\"HLA-DPB1\"], [\"HLA-DQA1\"], [\"HLA-DQA2\"], [\"HLA-DQB1\"], [\"HLA-DRA\"], [\"HLA-DRB1\"], [\"HLA-DRB5\"], [\"HLA-E\"], [\"HLA-F\"], [\"HMGA1\"], [\"HMGB1\"], [\"HNF1A\"], [\"HRAS\"], [\"HSD11B1\"], [\"ICAM1\"], [\"ICAM2\"], [\"ICAM3\"], [\"ICAM5\"], [\"ICOS\"], [\"ICOSLG\"], [\"ID4\"], [\"IDO1\"], [\"IER3\"], [\"IFI16\"], [\"IFI27\"], [\"IFI35\"], [\"IFI6\"], [\"IFIH1\"], [\"IFIT1\"], [\"IFIT2\"], [\"IFIT3\"], [\"IFITM1\"], [\"IFITM2\"], [\"IFNA1\"], [\"IFNAR1\"], [\"IFNG\"], [\"IFNGR1\"], [\"IGF2R\"], [\"IHH\"], [\"IKBKB\"], [\"IKBKG\"], [\"IL10\"], [\"IL10RA\"], [\"IL11\"], [\"IL11RA\"], [\"IL12RB2\"], [\"IL15\"], [\"IL16\"], [\"IL17A\"], [\"IL18\"], [\"IL18R1\"], [\"IL1A\"], [\"IL1B\"], [\"IL1R2\"], [\"IL1RN\"], [\"IL21R\"], [\"IL22RA1\"], [\"IL24\"], [\"IL2RA\"], [\"IL2RB\"], [\"IL2RG\"], [\"IL32\"], [\"IL33\"], [\"IL34\"], [\"IL4\"], [\"IL6\"], [\"IL6R\"], [\"IL7R\"], [\"INHBA\"], [\"IRF1\"], [\"IRF2\"], [\"IRF3\"], [\"IRF5\"], [\"IRF7\"], [\"IRF8\"], [\"IRF9\"], [\"ISG15\"], [\"ITGA1\"], [\"ITGA2\"], [\"ITGA4\"], [\"ITGA6\"], [\"ITGAE\"], [\"ITGAL\"], [\"ITGAM\"], [\"ITGAV\"], [\"ITGAX\"], [\"ITGB2\"], [\"ITGB3\"], [\"ITGB8\"], [\"ITPK1\"], [\"JAG1\"], [\"JAG2\"], [\"JAK1\"], [\"JAK2\"], [\"JAK3\"], [\"KAT2B\"], [\"KDR\"], [\"KIF2C\"], [\"KIR2DL3\"], [\"KIR3DL1\"], [\"KIR3DL2\"], [\"KIT\"], [\"KLRB1\"], [\"KLRD1\"], [\"KLRK1\"], [\"KRAS\"], [\"LAG3\"], [\"LAIR1\"], [\"LAMA1\"], [\"LAMB3\"], [\"LAMC2\"], [\"LCK\"], [\"LDHA\"], [\"LDHB\"], [\"LGALS9\"], [\"LIF\"], [\"LILRA1\"], [\"LILRA3\"], [\"LILRB2\"], [\"LOXL2\"], [\"LRRC32\"], [\"LTB\"], [\"LTBP1\"], [\"LY9\"], [\"LY96\"], [\"MAGEA1\"], [\"MAGEA12\"], [\"MAGEA3/A6\"], [\"MAGEA4\"], [\"MAGEB2\"], [\"MAGEC1\"], [\"MAGEC2\"], [\"MAML2\"], [\"MAP3K12\"], [\"MAP3K5\"], [\"MAP3K7\"], [\"MAP3K8\"], [\"MAPK10\"], [\"MARCO\"], [\"MB21D1\"], [\"MELK\"], [\"MET\"], [\"MFGE8\"], [\"MFNG\"], [\"MGMT\"], [\"MICA\"], [\"MICB\"], [\"MKI67\"], [\"MLANA\"], [\"MLH1\"], [\"MMP1\"], [\"MMP7\"], [\"MMP9\"], [\"MMRN2\"], [\"MRC1\"], [\"MRE11\"], [\"MS4A1\"], [\"MS4A2\"], [\"MS4A4A\"], [\"MS4A6A\"], [\"MSH2\"], [\"MSH6\"], [\"MTOR\"], [\"MX1\"], [\"MXI1\"], [\"MYC\"], [\"MYCT1\"], [\"NBN\"], [\"NCAM1\"], [\"NDUFA4L2\"], [\"NECTIN1\"], [\"NECTIN2\"], [\"NEIL1\"], [\"NF1\"], [\"NFAM1\"], [\"NFATC2\"], [\"NFIL3\"], [\"NFKB1\"], [\"NFKB2\"], [\"NFKBIA\"], [\"NFKBIE\"], [\"NGFR\"], [\"NID2\"], [\"NLRC5\"], [\"NOS2\"], [\"NOTCH1\"], [\"NOTCH2\"], [\"NRAS\"], [\"NT5E\"], [\"OAS1\"], [\"OAS2\"], [\"OAS3\"], [\"OASL\"], [\"OLFML2B\"], [\"OLR1\"], [\"OTOA\"], [\"P2RY13\"], [\"P4HA1\"], [\"P4HA2\"], [\"PALMD\"], [\"PARP12\"], [\"PARP4\"], [\"PARP9\"], [\"PC\"], [\"PCK2\"], [\"PDCD1\"], [\"PDCD1LG2\"], [\"PDGFA\"], [\"PDGFB\"], [\"PDGFRB\"], [\"PDK1\"], [\"PDZK1IP1\"], [\"PECAM1\"], [\"PF4\"], [\"PFKFB3\"], [\"PFKM\"], [\"PGPEP1\"], [\"PIAS4\"], [\"PIK3CA\"], [\"PIK3CD\"], [\"PIK3CG\"], [\"PIK3R1\"], [\"PIK3R2\"], [\"PIK3R5\"], [\"PKM\"], [\"PLA1A\"], [\"PLA2G2A\"], [\"PLOD2\"], [\"PMS2\"], [\"PNOC\"], [\"POLD1\"], [\"PPARG\"], [\"PPARGC1B\"], [\"PRF1\"], [\"PRKAA2\"], [\"PRKACB\"], [\"PRKCA\"], [\"PRKX\"], [\"PRLR\"], [\"PROM1\"], [\"PRR5\"], [\"PSMB10\"], [\"PSMB5\"], [\"PSMB8\"], [\"PSMB9\"], [\"PTCD2\"], [\"PTEN\"], [\"PTGER4\"], [\"PTGS2\"], [\"PTPN11\"], [\"PTPRC\"], [\"PVR\"], [\"PVRIG\"], [\"RAD50\"], [\"RAD51\"], [\"RAD51C\"], [\"RASAL1\"], [\"RASGRF1\"], [\"RB1\"], [\"RBL2\"], [\"RELA\"], [\"RELB\"], [\"RELN\"], [\"REN\"], [\"RICTOR\"], [\"RIPK1\"], [\"RIPK2\"], [\"RIPK3\"], [\"RNLS\"], [\"ROBO4\"], [\"ROCK1\"], [\"ROR2\"], [\"RORC\"], [\"RPL23\"], [\"RPL7A\"], [\"RPS6KB1\"], [\"RPTOR\"], [\"RRM2\"], [\"RSAD2\"], [\"RUNX3\"], [\"S100A12\"], [\"S100A8\"], [\"S100A9\"], [\"SAMD9\"], [\"SAMSN1\"], [\"SBNO2\"], [\"SELE\"], [\"SELL\"], [\"SELP\"], [\"SERPINA1\"], [\"SERPINB5\"], [\"SERPINH1\"], [\"SFRP1\"], [\"SFRP4\"], [\"SFXN1\"], [\"SGK1\"], [\"SH2D1A\"], [\"SHC2\"], [\"SIGLEC1\"], [\"SIGLEC5\"], [\"SIGLEC8\"], [\"SIRPA\"], [\"SIRPB2\"], [\"SLAMF7\"], [\"SLC11A1\"], [\"SLC16A1\"], [\"SLC1A5\"], [\"SLC2A1\"], [\"SLC7A5\"], [\"SMAD5\"], [\"SMAP1\"], [\"SNAI1\"], [\"SNCA\"], [\"SOCS1\"], [\"SOX10\"], [\"SOX11\"], [\"SOX2\"], [\"SPIB\"], [\"SPP1\"], [\"SPRY4\"], [\"SREBF1\"], [\"SRP54\"], [\"STAT1\"], [\"STAT2\"], [\"STAT3\"], [\"STAT4\"], [\"STC1\"], [\"SYK\"], [\"TAF3\"], [\"TAP1\"], [\"TAP2\"], [\"TAPBP\"], [\"TAPBPL\"], [\"TBX21\"], [\"TBXAS1\"], [\"TCF3\"], [\"TCL1A\"], [\"TDO2\"], [\"TGFB1\"], [\"TGFB2\"], [\"TGFB3\"], [\"TGFBR1\"], [\"TGFBR2\"], [\"THBD\"], [\"THY1\"], [\"TICAM1\"], [\"TIE1\"], [\"TIGIT\"], [\"TLR1\"], [\"TLR2\"], [\"TLR3\"], [\"TLR4\"], [\"TLR5\"], [\"TLR7\"], [\"TLR8\"], [\"TLR9\"], [\"TMEM140\"], [\"TMEM173\"], [\"TNF\"], [\"TNFAIP3\"], [\"TNFAIP6\"], [\"TNFRSF10B\"], [\"TNFRSF10C\"], [\"TNFRSF10D\"], [\"TNFRSF11A\"], [\"TNFRSF11B\"], [\"TNFRSF14\"], [\"TNFRSF17\"], [\"TNFRSF18\"], [\"TNFRSF1B\"], [\"TNFRSF25\"], [\"TNFRSF4\"], [\"TNFRSF8\"], [\"TNFRSF9\"], [\"TNFSF10\"], [\"TNFSF12\"], [\"TNFSF13B\"], [\"TNFSF18\"], [\"TNFSF4\"], [\"TNFSF8\"], [\"TNFSF9\"], [\"TNKS\"], [\"TP53\"], [\"TPI1\"], [\"TPM1\"], [\"TPSAB1/B2\"], [\"TRAF1\"], [\"TRAT1\"], [\"TREM2\"], [\"TRIM21\"], [\"TSLP\"], [\"TTC30A\"], [\"TWF1\"], [\"TWIST1\"], [\"TWIST2\"], [\"TYMP\"], [\"TYMS\"], [\"UBA7\"], [\"UBE2C\"], [\"UBE2T\"], [\"ULBP2\"], [\"VCAM1\"], [\"VCAN\"], [\"VEGFA\"], [\"VEGFB\"], [\"VEGFC\"], [\"VHL\"], [\"VSIR\"], [\"VTCN1\"], [\"WDR76\"], [\"WNT10A\"], [\"WNT11\"], [\"WNT2\"], [\"WNT2B\"], [\"WNT3A\"], [\"WNT4\"], [\"WNT5A\"], [\"WNT5B\"], [\"WNT7B\"], [\"XCL1/2\"], [\"ZAP70\"], [\"ZC3H12A\"], [\"ZEB1\"], [\"ZEB2\"]], \"hovertemplate\": \"Gene_Regulation=Not Significant<br>log2_FC=%{x}<br>log10_p=%{y}<br>Gene=%{customdata[0]}<br>Label=%{text}<extra></extra>\", \"legendgroup\": \"Not Significant\", \"marker\": {\"color\": \"black\", \"symbol\": \"circle\"}, \"mode\": \"markers+text\", \"name\": \"Not Significant\", \"showlegend\": true, \"text\": [\"\", \"\", \"\", \"\", \"\", \"\", \"\", \"\", \"\", \"\", \"\", \"\", \"\", \"\", \"\", \"\", \"\", \"\", \"\", \"\", \"\", \"\", \"\", \"\", \"\", \"\", \"\", \"\", \"\", \"\", \"\", \"\", \"\", \"\", \"\", \"\", \"\", \"\", \"\", \"\", \"\", \"\", \"\", \"\", \"\", \"\", \"\", \"\", \"\", \"\", \"\", \"\", \"\", \"\", \"\", \"\", \"\", \"\", \"\", \"\", \"\", \"\", \"\", \"\", \"\", \"\", \"\", \"\", \"\", \"\", \"\", \"\", \"\", \"\", \"\", \"\", \"\", \"\", \"\", \"\", \"\", \"\", \"\", \"\", \"\", \"\", \"\", \"\", \"\", \"\", \"\", \"\", \"\", \"\", \"\", \"\", \"\", \"\", \"\", \"\", \"\", \"\", \"\", \"\", \"\", \"\", \"\", \"\", \"\", \"\", \"\", \"\", \"\", \"\", \"\", \"\", \"\", \"\", \"\", \"\", \"\", \"\", \"\", \"\", \"\", \"\", \"\", \"\", \"\", \"\", \"\", \"\", \"\", \"\", \"\", \"\", \"\", \"\", \"\", \"\", \"\", \"\", \"\", \"\", \"\", \"\", \"\", \"\", \"\", \"\", \"\", \"\", \"\", \"\", \"\", \"\", \"\", \"\", \"\", \"\", \"\", \"\", \"\", \"\", \"\", \"\", \"\", \"\", \"\", \"\", \"\", \"\", \"\", \"\", \"\", \"\", \"\", \"\", \"\", \"\", \"\", \"\", \"\", \"\", \"\", \"\", \"\", \"\", \"\", \"\", \"\", \"\", \"\", \"\", \"\", \"\", \"\", \"\", \"\", \"\", \"\", \"\", \"\", \"\", \"\", \"\", \"\", \"\", \"\", \"\", \"\", \"\", \"\", \"\", \"\", \"\", \"\", \"\", \"\", \"\", \"\", \"\", \"\", \"\", \"\", \"\", \"\", \"\", \"\", \"\", \"\", \"\", \"\", \"\", \"\", \"\", \"\", \"\", \"\", \"\", \"\", \"\", \"\", \"\", \"\", \"\", \"\", \"\", \"\", \"\", \"\", \"\", \"\", \"\", \"\", \"\", \"\", \"\", \"\", \"\", \"\", \"\", \"\", \"\", \"\", \"\", \"\", \"\", \"\", \"\", \"\", \"\", \"\", \"\", \"\", \"\", \"\", \"\", \"\", \"\", \"\", \"\", \"\", \"\", \"\", \"\", \"\", \"\", \"\", \"\", \"\", \"\", \"\", \"\", \"\", \"\", \"\", \"\", \"\", \"\", \"\", \"\", \"\", \"\", \"\", \"\", \"\", \"\", \"\", \"\", \"\", \"\", \"\", \"\", \"\", \"\", \"\", \"\", \"\", \"\", \"\", \"\", \"\", \"\", \"\", \"\", \"\", \"\", \"\", \"\", \"\", \"\", \"\", \"\", \"\", \"\", \"\", \"\", \"\", \"\", \"\", \"\", \"\", \"\", \"\", \"\", \"\", \"\", \"\", \"\", \"\", \"\", \"\", \"\", \"\", \"\", \"\", \"\", \"\", \"\", \"\", \"\", \"\", \"\", \"\", \"\", \"\", \"\", \"\", \"\", \"\", \"\", \"\", \"\", \"\", \"\", \"\", \"\", \"\", \"\", \"\", \"\", \"\", \"\", \"\", \"\", \"\", \"\", \"\", \"\", \"\", \"\", \"\", \"\", \"\", \"\", \"\", \"\", \"\", \"\", \"\", \"\", \"\", \"\", \"\", \"\", \"\", \"\", \"\", \"\", \"\", \"\", \"\", \"\", \"\", \"\", \"\", \"\", \"\", \"\", \"\", \"\", \"\", \"\", \"\", \"\", \"\", \"\", \"\", \"\", \"\", \"\", \"\", \"\", \"\", \"\", \"\", \"\", \"\", \"\", \"\", \"\", \"\", \"\", \"\", \"\", \"\", \"\", \"\", \"\", \"\", \"\", \"\", \"\", \"\", \"\", \"\", \"\", \"\", \"\", \"\", \"\", \"\", \"\", \"\", \"\", \"\", \"\", \"\", \"\", \"\", \"\", \"\", \"\", \"\", \"\", \"\", \"\", \"\", \"\", \"\", \"\", \"\", \"\", \"\", \"\", \"\", \"\", \"\", \"\", \"\", \"\", \"\", \"\", \"\", \"\", \"\", \"\", \"\", \"\", \"\", \"\", \"\", \"\", \"\", \"\", \"\", \"\", \"\", \"\", \"\", \"\", \"\", \"\", \"\", \"\", \"\", \"\", \"\", \"\", \"\", \"\", \"\", \"\", \"\", \"\", \"\", \"\", \"\", \"\", \"\", \"\", \"\", \"\", \"\", \"\", \"\", \"\", \"\", \"\", \"\", \"\", \"\", \"\", \"\", \"\", \"\", \"\", \"\", \"\", \"\", \"\", \"\", \"\", \"\", \"\", \"\", \"\", \"\", \"\", \"\", \"\", \"\", \"\", \"\", \"\", \"\", \"\", \"\", \"\", \"\", \"\", \"\", \"\", \"\", \"\", \"\", \"\", \"\", \"\", \"\", \"\", \"\", \"\", \"\", \"\", \"\", \"\", \"\", \"\", \"\", \"\", \"\", \"\", \"\", \"\", \"\", \"\", \"\", \"\", \"\", \"\", \"\", \"\", \"\", \"\", \"\", \"\", \"\", \"\", \"\", \"\", \"\", \"\", \"\", \"\", \"\", \"\", \"\", \"\", \"\", \"\", \"\", \"\", \"\", \"\", \"\", \"\", \"\", \"\", \"\", \"\", \"\", \"\", \"\", \"\", \"\", \"\", \"\", \"\", \"\", \"\", \"\", \"\", \"\", \"\", \"\", \"\", \"\", \"\", \"\", \"\", \"\", \"\", \"\", \"\", \"\", \"\", \"\", \"\", \"\", \"\", \"\", \"\", \"\", \"\", \"\", \"\", \"\", \"\", \"\", \"\", \"\", \"\", \"\", \"\", \"\", \"\", \"\", \"\", \"\", \"\", \"\", \"\", \"\", \"\", \"\", \"\", \"\", \"\", \"\", \"\", \"\", \"\", \"\", \"\", \"\", \"\", \"\", \"\", \"\", \"\", \"\", \"\", \"\", \"\", \"\", \"\", \"\", \"\", \"\", \"\", \"\", \"\", \"\", \"\", \"\", \"\", \"\"], \"textfont\": {\"size\": 10}, \"textposition\": \"top left\", \"type\": \"scatter\", \"x\": [-0.6282777385242417, -0.16753420955995027, -2.1181525204786285, 2.2056505574376253, 2.2248717996657925, -0.5664700557791099, 0.6627145723962415, 0.75667225430501, -0.6141903898872695, 0.804081055980463, 0.20994141419535461, -0.1671722058598841, -0.24277442586418577, 0.13560420364440262, 0.341664089789944, -0.17530153936989795, -0.09175181254701509, -2.781529654763967, 0.2699452289050046, 0.0815479064714274, 0.5275480196861622, -2.0894192406254075, 0.10902285551798359, -1.4130432638884958, 1.4188308486037564, -0.2682432851909668, 0.4580561336287866, 0.13245300311763789, 0.42883140947177295, 0.1036615055298916, -0.25420551951986714, 0.031137784320758553, 0.35251488204510734, 0.1952112460039096, -0.02435128054003439, 0.517020672958404, 0.4487569023331774, 0.9329678837419306, 0.4309976147051239, 1.289684497769724, -0.3441559607920226, -0.712730786156307, -1.7446171880816508, -0.24372573936894695, -0.3798716437461842, -0.09303587918980709, 1.1486938141426084, 0.10403721942305605, -0.8525378065448063, 0.17251142354937313, -0.2637705406745148, 0.2046396262478825, -1.5857889477934244, -0.5920022426317402, -1.0259901600255246, 0.8158981272040443, -0.039552080523094, 4.413244497498984, 0.15231584467737713, 1.9487051902200456, 0.6404472961114466, 0.1741831489408301, 0.018316114896784898, 0.6457420208995756, 0.7281301587327754, -0.9201948142255286, -0.05510834805903563, -1.9659101642762544, 3.362630459699432, 1.4025250886961507, -3.6390896885174553, -5.11878212808906, 1.8033792624889617, 0.877101432633456, 2.69216619965114, -0.4242095517431819, 0.4220007530874696, -1.4588147228653763, -0.08287928899963792, 0.5818698663348146, 0.6311515005612873, -0.5352526923656565, 1.4108135382893907, -1.099014971431763, 0.9064639009129688, -2.5324278170994337, -0.8411567444802301, -0.5201312652949412, -1.340661915445259, 0.3798878806921963, -1.2444967318594031, -0.550331478911648, -0.13952318859538232, -0.33885066048531354, 2.493586160761571, 4.557946965836133, 0.3016896632976142, -0.7018848461935995, -0.3435713826295319, -0.32512057275525896, 0.19638405923256033, -1.5996376477297685, -1.4271330642878493, 0.02008902517822474, -0.17587770862616028, 0.13175557233291743, -0.0758927951134487, 0.4703728938944124, 0.017674087050691383, -0.23709546952503763, 1.1633630283810992, -0.5866516563124295, -0.2213029371311028, -0.6225539246452693, -0.2708760622880085, -0.3509614231147769, -1.8083283379986943, -1.2308819774928266, -1.4888788113186888, 0.1251343468794251, 1.9607366641797264, 1.0339283115602365, 0.8208595839201424, -0.4839201968291725, -0.9264228767399799, 0.7504989116976067, -0.11331632567666965, -0.2343138399321481, 0.1584472822706717, -0.5251765128133556, 0.7520732707888313, 1.9018574672355881, 2.7921299625353546, -0.059404772201143506, 0.22163498249299485, 2.211920458366723, -0.5144808321979386, -0.500503955671798, 0.3301269303921267, 0.14465362716444743, 0.17696391008532447, 1.1318463113462753, 3.042745524680417, 5.492506516647082, -1.1238005769135169, 1.9277872647939054, -0.1955441775774763, 0.5198818721327755, 0.055579724810472776, -0.26285387512838426, 0.31451348501982623, 0.9653097285416233, -0.5130244728145685, 0.3265362106451215, -1.8501276631899113, -0.4852458730364186, -0.8714238774984362, 4.173102588910927, -0.6843632552266796, 0.6653265503648057, 0.04626457840832297, 5.482619358004974, 1.2055572448616763, 0.04341050765879391, 0.4904893076914531, 3.032113231637844, 1.7457537885951016, 0.3653588292952295, 4.049271801065539, 2.1086406045153097, 0.18569897149465608, 0.18458268006623835, -0.6164015565357202, -3.816432786638297, -0.6697888884642346, 1.9832609036409115, 0.6399660061588339, 3.704147847066502, 0.2215364732472856, 3.5237290855918633, -2.2791616216446933, 1.8687895266725494, -0.13823925265583628, 0.009021885164071609, 0.2980342809307804, 1.4159867129025945, 2.5128980370036804, 1.0514496086939211, 0.12111912153161072, -0.15966811757057361, -0.27735487574769635, 0.05516257801094104, -0.30336251522672525, -0.09424803533374038, -0.2994031406391038, -0.20452756434496808, 0.47198114306966527, -0.6300640120152611, 1.3804001485991229, 0.6882016723449452, -0.7371182933328394, 1.1852694687981038, -0.6325557350551964, 2.309294440199827, 0.2134993917957523, -1.1417952872505093, 0.5156868567258495, -0.14429036337523546, 0.1871931424419703, 0.46994133061309074, 0.6915228623424028, 0.7577462497673997, 0.710108533291529, -0.6198047185508032, -0.1783709335202955, 1.4888704016398537, 0.41589445371502626, -0.3830752593135169, -0.43033188848218124, -0.29921350414708164, -0.23748702182755388, 0.13793274689911778, 1.244064547597346, -1.9582754914433371, -0.19295855749060603, -0.18852721758441882, 0.09567673999377685, 1.0411492073174233, 2.594560656439146, 3.6593987941668926, 5.63383443043953, -0.5862667704981344, 5.056715752689999, -1.7134923567117306, 0.0036235916611993607, -1.236553125190371, -0.22446530471460188, -0.7085700014134634, -0.2783381910918636, 0.2535966821711545, 2.228142730251802, -1.399528810917073, 6.044127287043502, 0.7339463183259729, 0.45121660966628957, 0.7678163781858742, -0.2947318952247894, -0.2614045304913639, -0.7521546891621115, 0.10436826741104799, -0.38379470425654866, 0.6648392361339514, 0.47626555782934576, 0.39494455384607574, 0.11836240992438586, 0.19684110624803453, 0.05779570273104475, -0.7566764706864472, 0.49160112503296094, 2.6464216231890303, 0.09425826624541202, -0.21441288462176938, 3.9726470455711684, -0.7672151626411782, -0.312251837766496, -0.8184478916016386, -0.29823205463948993, 0.3833319012656972, 1.4439534995267114, 4.532837331804626, 0.1072176900982077, 0.3728949352162114, -0.6435141354761221, 2.154285023003582, 3.3182369670540175, 0.3923052722251221, 0.08982174195869917, 0.273152620888944, 0.12385835373480411, 1.0471688072226475, -0.8602996779310914, 0.21424131455173762, 3.3089431204493396, 0.5312436747733524, 0.3688400032370677, 0.5528071306009693, 0.7670221811175907, 0.1655839357778502, 0.298497205939922, 0.44090727392690593, 0.1376513938422, 0.23591668270452282, -1.5137104618566772, -1.9348060287450204, -0.08550117194163649, -0.11577749560570277, -1.2174223339585557, -1.3398545422708408, -0.39067028176001295, -0.06550067219386396, 0.047359385086761296, 0.12095111275502006, 0.4257196211082329, 0.14073900562986738, -0.16780616799931788, -0.19605657098666995, 0.9829230760369898, -0.06721036228241783, 0.20644108784370446, 0.770236285175509, -0.23620249201442411, 0.23993629454280824, -0.09334225302291228, -1.3984125529355995, -0.7237042439461814, -0.8870371839428617, -3.054644449990921, 3.714400872846047, 0.013458745455130114, 5.280683347965572, 0.6359271711030128, 1.34572030087837, -0.5194666370661415, 0.24546070635428363, 0.7034189481651046, 0.7936671708690843, 0.38363690678986523, 0.9577929122754409, -0.6100348710862781, 0.600803047987471, -0.3413221154344023, 1.506234916803935, 0.8811213315554981, 0.38317031812882596, -0.34185135792969396, 0.385325697832298, 0.23120985129631214, 0.8283625721318422, -0.3421986558087186, -0.08508086565450433, 0.6001564279603347, 0.9391834105521626, -0.27608941770460366, -0.25903296116648333, 1.359005235177696, -0.7171404733372982, 0.7410192310165137, 3.914483858411396, 0.7491717371383118, 2.1799493079574654, -0.7925230033715498, -0.35336327128663325, -0.017974669572560158, -0.7453455631402459, 0.8894368853132626, -0.3055814644688269, 0.3430711502742892, -0.46974750353679984, -0.45500769313288786, 0.34973069750102687, -1.9602046105591495, -0.2680226582268573, -0.18758967245764646, 0.40499391908572346, 0.3613923542254122, -0.3312876785859255, -0.007581588924386313, 1.425221080004712, -0.24298216200947204, -1.05351757338941, 0.12329976381626316, 0.529707215712385, -0.3893427910755375, 0.7632180439350944, 1.1010334790450886, -0.01454331975462794, 0.1760937866621883, 0.4964056484050072, 3.2420716819471442, -0.37233255500056134, 3.1940512703673716, 1.6877535017268392, 5.2187885725332475, 0.3143062683302296, 1.2932743796037254, 0.8229016134322108, -0.09575312451011299, 0.19299945505544272, 1.0407299877059035, -0.5101156088395298, 0.4999091841199577, 0.2981398103370831, -0.43001588587611334, 2.786361956024745, 2.246430978611378, 1.505967120199816, -1.8803412632531566, 1.3604537121704612, 2.744513446376367, 1.145030833358452, 0.38352190276890225, 0.44060071627972175, 0.03258248271718642, -0.24440208199133584, 1.472562290608887, 0.40734279687216457, -0.42011400483901046, 0.3036349577601326, -0.2153158478163373, 1.0606707009678187, -0.45769640495869784, 3.672655575512504, 3.9980635063140295, 4.76681231358321, -0.06037880648650215, -0.7229382785231891, -0.6892986081340837, 3.0095002521164553, -1.6047995876972339, 1.127918101013596, -0.2627127688741323, 0.23164709426023936, -0.1611651956202794, 0.28882248997553417, 0.9330398900270177, -0.21199159161318137, -0.024005268844917826, -0.4596311515387351, 0.21646594407866587, 0.24865031095092915, 0.018177435862817372, 0.7149238688614261, -0.005684798778765289, 3.9523235229045617, 0.49824739070047286, -0.23326668306159193, 0.1828444216298032, 0.30643233266730746, 0.5366585251086774, 0.06234785632939429, -0.28037426229010337, 0.5873162164272472, -0.39633198495295924, -0.021311890392600355, -0.16297185539670153, 1.029620569929187, -0.74387311519806, -1.8212678340387471, -0.8530786894931485, -0.7624356590096065, -0.05682153792975435, -2.4129373024720002, -0.5533502828727186, 1.2571347103744521, -0.07970804845515035, -0.5141836263591152, -0.5001638581048398, -0.2398426720517735, 0.12871889893477956, 0.5153772350314128, -0.9508874026071451, 1.059414375534911, -0.03972804069957499, 1.8319360695030582, 0.4256446590179894, -0.16401055026356973, 0.7647572936190087, -0.9391636540090276, 0.2532397971877482, 3.506025212355241, -0.1304027954516296, 1.4096737774523784, -0.8674073066239434, -0.8898548518109929, 0.35582766785731834, 0.34450821418264216, -0.297812744911467, 0.34335964438347827, -0.2496674061735822, 0.4789485127039313, 0.37609121383570626, 0.7455258317390007, 0.2990395349876742, -0.5017499772487979, 1.4844878016612748, 0.46169255147292665, 0.620678011289812, 0.35378558658561854, 0.458233988499218, 2.4822493489573527, 0.05013307749671539, 2.434608892910952, 0.006652029774911771, 0.39814164562548865, 0.08820843783739672, 0.2814853413202644, 0.28154647821198653, 0.5695422411062884, -0.6225685862911234, 0.08346717878365571, -0.3630420206466587, -0.8325584299303678, 0.5542434606438751, 0.34813716400960015, 0.2723920629622459, 0.24054941011840547, 1.9725239202252205, 2.2674485526194696, 2.332572406631635, 0.7647247859883803, -0.2909223225055069, 0.727902120073205, -0.10863190779638597, -0.023958014274306858, 0.4274008676600178, 0.13234761608086673, 0.4302542056653751, 0.16123440773012365, 1.3906376580577036, 0.5664874881335191, -0.2871729855055824, 0.3937716976464483, 1.3938633370011786, -0.2552192170947395, -0.9135757376055773, -0.01942726081643376, 0.6685921621917723, 0.48928617371339533, 3.58788060890479, -0.06961098559778273, -0.3565016935267973, -0.45499952981057057, 0.3111662079749265, 0.9589005738373779, 0.04544252254751596, 0.17683885950140943, 0.5996911061760035, 0.06880749562139134, 0.16544034074171177, 0.20664008927621416, -0.40356269208773843, -0.36155799662326027, -0.6227251930035759, 4.0522751386559746, 0.05431648964353159, -0.06336347515243727, 0.4482569135494364, -0.17908549887363387, -0.20959262704938827, 0.03129055256247465, -0.06499102574884884, -0.25154638488465203, -2.3042246699824034, -0.011671502221250154, 0.07754852779540078, 0.09960059523738286, -0.6311085764347449, 0.02681162527484256, 1.0108302803954357, 0.19549725584606947, 0.22989887033532505, 0.6334221344307659, 0.29038599189201597, -0.15927915426156794, 0.38707781470718533, 0.23250506070701082, -0.22183128630405385, -0.003436324642119101, -0.15158483679798887, -0.00588665043144462, -0.27787105791860445, -0.38689407010929283, -0.24829014770728494, 0.2949997268464022, 0.369578800231982, 7.298146992706416, 7.757525650425182, 7.602616811715547, -0.019492316402636187, 0.010178385112464798, 0.3091012239704334, -0.2765718185415196, -0.07840031388494055, 1.545597130449264, 5.378611598426038, 0.5101646051372639, 0.1960670770257723, -0.2183770307526044, 0.6132089721882549, -0.24705182637323628, 1.4006879187741639, -0.06460308253961503, -0.24963928022228174, 1.6380201760916886, 1.2291563045303928, 0.39888008162539906, 2.694596994609631, 3.8675391761031017, 0.3741641020452977, 5.642050371434871, -0.8910246291564545, -0.30035810244166933, -0.06895250933161508, -0.3329793198284187, 0.7211816625568219, 0.4646696419820368, 3.323214114847142, 2.717652384653679, -0.23247154055471622, 0.21749489628751897, 0.3559020473240476, -0.26731969696471236, -1.8902701220404665, 0.5525432716689797, 0.3649919056252274, 0.3312203089600366, -0.08994962301846177, -0.06073408889469165, 0.318266959808216, -0.08633636729861147, -0.32208580480786625, 0.3415474346225093, 1.0492753568785038, -0.42255270122412736, 0.08381744944909617, -0.060328948117292905, 0.038013467045373374, 0.3801605502018417, 1.7028194406145079, 3.2479381994869883, -0.47884325427091307, -1.6601520629064477, 0.04387752626103638, 0.8507310265018148, -0.3513615976117149, -0.5017312753523572, 0.019499722279311394, -0.14654125499670645, 1.9814197595429388, 0.20106194007079406, 0.3478117279371877, 0.3428894934114859, -0.42335923654632096, 0.9984673796159264, 3.8164846067351936, 1.2391262100049336, 4.723906454747574, 0.2361548203525388, 0.33056416588353826, 4.007091415067616, -1.6366569071890882, 1.4139421842395907, 0.5238595381991614, -0.31876067811500125, -0.4934077740182104, 0.9868720717130552, 0.433946301913482, 2.1580828417234033, -0.6678007648071365, -0.1556185441700439, -0.4975320582003418, -0.037674450075618426, -0.06699089443160401, 0.41088765091974744, 1.428038192176013, -0.07749909533201844, -0.1419469831350481, -0.26692884374584586, -1.855203571833186, 1.0401754933882374, 0.6277280045045347, 2.075001556247204, 1.3137250391196709, 0.8662484647874725, -0.7972491986590673, -0.5848915271705781, 0.09715861977023739, -0.5885721721005664, 0.5520254666540922, 1.1513683754578417, -3.4709147169066377, -0.6383654572473483, -0.44578899794558513, -0.058256680354678285, 0.5898316528350571, 0.1597929831232073, -0.8009380810792257, -0.006596851120625432, 0.2955613136717911, 0.06775944648991765, 2.955473766781157, -0.40214011253188164, -0.16057016125918308, -0.7044710249162732, -0.3751595918300179, -0.5565584519306455, -2.0878734252517197, 7.933825021741874, 3.089496027846595, -0.44499676233397967, 1.0887434308271169, 0.36682839873933837, 1.7380482183410733, 0.737986899151627, -0.06889253372575566, -1.8158238326019738, 0.2159256678049296, -0.7822793390846613, -0.29220649816990896, 0.6018024287414478, 0.10136984824611052, 0.10415441157059718, -0.3744513309130127, 0.14571510957051242, -1.140796727471576, -0.13900368362247165, 0.258003777807456, -0.740888731389069, 2.9101451406529777], \"xaxis\": \"x\", \"y\": [0.4314257751612378, 0.22415051382338794, 0.8228617095147759, 0.7182360405820936, 0.8152894237045527, 0.8252203353514755, 1.3271796383138774, 1.2318076068352428, 0.760434460293045, 1.0361121388169805, 0.1177255563042612, 0.16616668880010238, 0.30346419712021744, 0.23306424977432944, 0.6754153529251303, 1.711412656616373, 0.07800267051538133, 0.544530488990945, 0.7006725628843, 0.040794319168580784, 0.46892995407691823, 0.6165275019807341, 0.16090250144681953, 0.8533286995878375, 0.8402989619854159, 0.28664457011164685, 0.6477412299322066, 0.07050023118137365, 0.4810678060315448, 0.0759015596988976, 0.19851934215683653, 0.026693171513053792, 0.4592409946726597, 0.14815478635234056, 0.02014162520727287, 0.8647467961022486, 0.4919781683131538, 0.8537968739989251, 0.5460864114803582, 1.821239902573661, 0.3853841405273344, 0.4447403847342199, 0.9557645876207755, 0.2597020540611426, 1.212305278066234, 0.11199308262048599, 2.301176978452315, 0.14417795359183713, 1.3128027499665704, 0.18345774472912704, 0.49886450530067594, 0.5147525958091747, 0.9041546483894275, 0.23510713481837384, 0.380432973447339, 0.571169682369849, 0.06275743283153833, 1.1801824988743512, 0.17794136472193897, 1.374253455403362, 1.260403034928964, 0.13491216140076354, 0.02848272792343353, 0.6773242794317157, 0.9657121096276219, 0.3829475436974469, 0.03872236515858849, 0.660975463320917, 0.6087052950589987, 0.37353279256396854, 0.4475404885696101, 0.7812877997114893, 0.764827153158269, 0.7065937266198503, 0.7235272790866587, 0.33744730091337394, 0.5076058807819434, 1.170092135561328, 0.10493921750241328, 1.133659665219458, 0.9284892580907464, 0.39922931376579174, 1.299775691014051, 1.5803062714130478, 0.6320885048919604, 0.8141554590719517, 0.3373983400347868, 1.0495165939917022, 0.40160586163401735, 0.5754164990066932, 0.8856572177553145, 0.4793210015825829, 0.16090834333357548, 0.26682858589592723, 1.330069491179481, 1.0353484513607425, 0.14687201032037592, 0.535234302656303, 0.27131781963638113, 0.3973734109053799, 0.2899174009381764, 0.8165278603075325, 0.7141955025170589, 0.027690710355305237, 0.4023210882995775, 0.2016528741003853, 0.04399655095507085, 0.6774454603906993, 0.009642777327008262, 0.2199062907907403, 1.7460242592305018, 0.5864785901577321, 0.08061695533336101, 1.4210140864110163, 0.5018444656849578, 0.2969555246574364, 1.15928280180996, 0.7964805173424285, 1.9185551635421614, 0.1536226062173793, 0.8470122523809216, 1.1097622958400952, 0.912767578571757, 0.7424391057215308, 0.8088592042598409, 1.7031216585755322, 0.12382166300160925, 0.2749326439187495, 0.14990858175709804, 0.6923861150313811, 1.6386317002631354, 1.178500270415692, 0.7858500164305655, 0.04138847463725747, 0.2420607242675703, 0.8185736643198814, 0.4752726537893317, 0.7316393128437931, 0.348446250031104, 0.25459449489978203, 0.2907772664537311, 0.7875201596261924, 1.462640654930429, 1.3496797587996476, 1.4196754183719653, 0.8701113577635747, 0.2031140744970725, 0.9016384042973766, 0.04355353836711738, 0.2503253260121139, 0.3584218817037393, 0.930744213463586, 1.049174633602781, 0.6241624814234689, 0.4907675644213349, 0.3255207074628347, 0.761069172006881, 1.085035569799399, 0.36868357134543006, 0.6154147456065336, 0.02920639941861708, 1.1798843049421246, 1.3174368697504542, 0.03855833476890471, 1.525584113784419, 1.3463064216469258, 0.8695797363037664, 0.7968295771758721, 0.8753629455022547, 0.8963681926804642, 0.2513737497198804, 0.3836885497590202, 0.4508229101379407, 0.9536017423586227, 0.5571810008869691, 0.9352452667071014, 0.6064935368218353, 0.8146804454204746, 0.26892977359580916, 0.7259693885299956, 1.0563687232590775, 1.2498090054402011, 0.0777132634164471, 0.006898576379704103, 0.13046627167224725, 1.9716354934417983, 1.0682481385066032, 0.9771097175107057, 0.1866330903509115, 0.23834477364399323, 0.9248672745856089, 0.03554336909056128, 0.34426231634694027, 0.3071964363668279, 0.8085658222640498, 0.3061712803223351, 1.0466485755365385, 0.8202305372304813, 0.7795870314000412, 0.5014642912113776, 0.6596588215918484, 1.9730785510265636, 1.0650753501907333, 0.7120883316138417, 0.3157214393484017, 1.1034278291862951, 0.5421490536219926, 0.28195789736339466, 0.15557541444869333, 1.1478988174187854, 1.5490793237400426, 0.5479244980550354, 0.3808491003732904, 1.1055145818506336, 0.24676201773160825, 1.283756693256247, 0.5925278685971547, 0.22310708260217132, 0.2866466758297081, 0.5200341081794405, 0.48216839098377345, 0.2954186582236984, 1.2404761247060039, 0.4437579352791184, 0.23859321310147683, 0.16253382041005837, 0.07860536168422577, 1.1802097594736585, 1.3527208518257285, 1.3944442571432503, 1.3300043832627395, 0.3753206792987981, 1.0124940982194928, 0.7368617411826048, 0.003272963392596659, 0.5945845917168515, 0.5127157272993186, 1.499933704600499, 1.0730099499550343, 0.11421591066877172, 0.5781256381255189, 2.14675484205388, 0.7043291614698244, 0.43372825103512924, 0.6097069496049256, 1.2657334398349638, 0.33290560651461965, 0.3463778613500104, 0.6454504154110547, 0.14660692811763523, 0.4544917127185071, 1.702324691795271, 1.0322633509729608, 0.586280008349043, 0.08212927327464538, 0.3251545320403437, 0.14100650583720742, 1.507773132810665, 0.8973862020777303, 1.299379296516613, 0.11308360824816756, 0.14309950439766708, 1.00957231491299, 1.7202044253780668, 0.2888722152750687, 1.3155030299792365, 0.2931120827826849, 0.5534942629355152, 1.0603367442615157, 0.6485459174687287, 0.04095187103836527, 0.2810991116832501, 0.6626459958728086, 0.7400653901790828, 1.1615029158500105, 0.5035517223497225, 0.13607439769399643, 0.34643496001148677, 0.2503762761659693, 0.5622918751633967, 0.7877433312026881, 0.4066144845807094, 0.5814475597157464, 0.14980817032625854, 1.7958036412626432, 0.8607548939230897, 2.243753700357363, 0.11093403990629509, 0.540561827246156, 0.9873987719869064, 0.11365901416513395, 0.14794919806500711, 0.6115921549023718, 0.6692486781550626, 0.0546338133220689, 0.09070193954139648, 0.3241549677147182, 0.22055755933074103, 0.13430389075786922, 0.05195086451740149, 0.0208244471986943, 0.019813339093744022, 0.8534930401559211, 0.812513247950918, 0.21233560329797277, 0.5036466118959363, 2.475480425612571, 0.10024836735554203, 0.1557297636427277, 1.4277342999686902, 0.4452027819682628, 0.20077509230121252, 0.06780226038687687, 0.7272404218226836, 0.8732816545348324, 1.789129424953356, 0.6887675220946041, 0.8328217937001305, 0.011325469903012043, 0.3671912337791502, 1.4085149677109363, 0.5644173562269613, 1.089155225559723, 0.245908842052438, 0.4934146508778036, 0.6663678072203505, 0.2908703334741516, 1.462672131230119, 0.3303185992017278, 0.934337977174127, 0.11830359963097391, 1.309313760130567, 1.7721122373561569, 0.761882220510478, 0.45219788799966915, 0.8379309948358802, 0.3109641234059716, 2.5092726893542965, 0.4514183569030953, 0.062181489314812544, 0.6819627626508865, 1.5025240986057165, 0.21487427375342907, 0.3232636492560633, 1.2163103225446759, 2.513885473490844, 0.31537753456339773, 0.9408904011150566, 0.3829674357923024, 1.3694646287638237, 0.829451400334316, 0.44644293474030816, 0.013994274911534176, 0.6667458757261584, 1.0163788589369767, 0.4399717448059473, 0.3079326781201851, 0.29176544632946655, 0.7916647389958008, 0.3725555618080592, 0.6197698690880706, 0.32033373310166396, 0.14252215522185552, 0.32552691361543484, 0.6228412476218589, 0.24231959307560924, 0.004983948897753488, 1.2407813712399132, 0.26281668697739075, 0.9293177551469596, 0.10439070945975573, 0.3778036193504271, 0.38053095997082614, 0.8606770659794246, 1.527824366050885, 0.012162405369554416, 0.18191209513688916, 0.6736700185111516, 1.100492780547514, 0.33474467595101925, 0.9003458560493938, 1.4367059933749116, 0.6432358365672519, 0.41278958199317295, 1.9034308527320551, 0.2423363478774371, 0.1804598686230763, 1.5526145301745697, 0.7748548282003289, 0.7872116195757721, 0.6227620445160782, 0.3027864230135181, 0.4255580849986245, 0.7176845592360968, 0.6875166582216471, 0.692139872926868, 1.159691024728186, 1.0468732777070744, 1.247547009000916, 1.4281512534129404, 1.2846807124566488, 0.4641909991434775, 0.025496941807934655, 0.3321931056825706, 0.37913996566727665, 0.2706138403493015, 0.3626722561567727, 0.25202041775700473, 0.1579550003498455, 1.1805322122733755, 0.21993492074265739, 0.8886784688204588, 0.9145408179203908, 1.258671723557182, 0.027776127816615738, 1.2238340888394283, 0.4795926350533452, 0.5984780052728947, 1.472241602071137, 2.2664865764945805, 0.18613923161791446, 0.26002274786930957, 0.13407208805020404, 1.0514025756802658, 1.0918980821219364, 0.22980708765095967, 0.013780637531189827, 0.5378640942741962, 0.23917585699953645, 1.1472678044451483, 0.02042125170936758, 0.9480902053011623, 0.006711759821412229, 1.2691678951836003, 0.6190063373690892, 0.20780179551403585, 0.17749480999961165, 0.4055491057812666, 0.7877609681280806, 0.04244770814639144, 0.2183883004821397, 0.6935783081250906, 0.22454048612432212, 0.0333111356620766, 0.6789076010138088, 0.9149948603827562, 0.9410373185069263, 0.8847819253059015, 1.3136919866742778, 0.48975163179182285, 0.06686755718324894, 0.6682395773995082, 0.7811145635263989, 0.9175018789690608, 0.06959457607039199, 0.549735842449415, 0.9657924932248766, 0.8139096394254552, 0.06500904078467587, 0.551384939996971, 1.1011214250962733, 1.044396442334206, 0.0925141902397508, 1.2448606806851845, 0.43584924009776, 0.13625875813882693, 1.6033607175708797, 0.6261567710764677, 0.3922315645635143, 0.9823923608406511, 0.18265238905534809, 1.7754941863031797, 0.6799197891936413, 0.9232251594225769, 0.18190303874050895, 0.3702913254246924, 0.5426657090298997, 0.32051448789110376, 0.3244077607408686, 0.4817002555820227, 0.4480738653955417, 0.7048253897101867, 0.5780803004632248, 0.3949513221219258, 0.9377071319475117, 0.36293697275302306, 0.3415618349904672, 0.20547024335333536, 0.7628387634927385, 0.49003494721723867, 0.04008768025876752, 0.5095173676991739, 0.007562897640123959, 0.5640255267074296, 0.09931070051126484, 0.6943237620243422, 0.621025523808563, 1.171272255638034, 1.0831665488230195, 0.06214835715837861, 0.34839802531718417, 0.8682389827569527, 0.6825564189145134, 0.4415540124919641, 0.23413890040300406, 0.30425812131216134, 0.5596021381729481, 1.2600011504884054, 0.7254550003045639, 0.9152739690711388, 0.3613072468335026, 1.2027323046989524, 0.30509443380507767, 0.04083451474866271, 0.9499969156903011, 0.12396289309144858, 0.33668067204069824, 0.2615893640701022, 1.846429779585965, 0.8535686793596223, 0.3554791023672493, 0.36989160418185174, 1.3035583336649945, 0.38643374562047833, 1.2556918020334933, 0.018528798436405987, 0.4695404734699018, 0.6176256632278734, 1.2132048179698736, 0.054594446739022244, 0.3786029216921925, 0.8785588484404283, 0.2362577787965491, 0.6865396906406418, 0.06846610942677729, 0.33511128745355806, 1.027201965279305, 0.07588731689624985, 0.41867891056047857, 0.2096414164266843, 0.5963305298505281, 0.644777396620784, 0.4984412033488229, 0.8836380944185708, 0.1853166712704089, 0.07361419708010872, 0.8391245336711535, 0.1844200621160785, 0.24012547783447966, 0.03857506940850949, 0.08240184087285794, 0.4782872544744437, 1.1664598833502149, 0.012068739037575488, 0.07677012945581697, 0.17004234393057352, 0.4527839957569296, 0.02629991710418655, 0.7813122868967809, 0.5356563436202135, 0.5032320288179731, 1.276266927539715, 0.30761640846371285, 0.27996206634502274, 0.3538368505825563, 1.3403198095647701, 0.5361856793004622, 0.002262904761487795, 0.08861123929900848, 0.0032665340927962158, 0.3850733035059976, 0.966406440382375, 0.113960422585887, 0.14431967217647673, 0.2913641981413105, 0.964279315447002, 1.052134906493512, 1.2153849316703338, 0.04721479255737416, 0.008062053957162647, 0.5778335446740447, 0.39948519235427443, 0.10246060144555177, 0.6008012966628392, 1.292568511802196, 0.500548347793953, 0.31224354556433065, 0.1736158417033984, 0.8620296313742778, 0.5850322981642838, 2.0905598377810777, 0.04766675294788216, 0.17718395700464398, 0.3640177629705238, 0.6794894459320602, 0.6592649781792597, 1.4317294331274448, 0.9996485288368716, 0.37212154393656766, 1.1446721932276205, 0.6270398717811043, 0.5293912420399628, 0.19540143233117677, 0.1529288232944206, 0.48729879996298553, 0.9190817774726066, 0.5539969814261564, 0.7844005661998006, 0.21000149293496453, 0.14428776386290706, 0.2847524992604225, 0.252611848524437, 1.0777481943202312, 1.5505356012211102, 0.30877557646142767, 0.4441963516486774, 0.2604764427991347, 0.13290441903091985, 0.4381362038105069, 0.11943660857345739, 0.27088262376160377, 0.5297588148029057, 1.0905664569101876, 0.4716745036249883, 0.13684953454223908, 0.06956418984755473, 0.03006435028579947, 0.9496601814060536, 0.9359065782007636, 1.3731513875456447, 0.6600040123797781, 0.3970385685412087, 0.030122894587444816, 1.585487288596035, 0.300343178234307, 0.6284511409225528, 0.018152854991242615, 0.23600363869386823, 0.6524102516671442, 0.18259883475092478, 0.5501220813841482, 0.3487896744771702, 0.3476944834798421, 1.0876009217177454, 1.103789562169287, 0.8708909474050615, 1.2434220754068739, 0.1500994925244639, 0.6265018776595005, 0.8183571281416472, 1.2742211864978887, 0.8670097597571637, 0.857766745422813, 0.37732434210704024, 0.27562735624179646, 1.0592376422808443, 1.017846149952405, 0.7461473782869072, 0.6060725981474032, 0.2048784041204529, 0.7821864499677847, 0.06330055911296277, 0.02923521927231108, 0.5738113594330811, 1.772439657469361, 0.08512686813026284, 0.11611642428406987, 0.341303202267919, 0.8273025202863412, 0.8387481421840952, 0.8251617584821291, 1.2226094842782003, 0.39058330017509896, 0.38621490384481566, 0.38411240618160625, 0.4138168037314021, 0.4202974927322265, 0.6785170521220009, 0.7534906401379583, 0.6753441595553463, 0.7018259703484353, 0.6045537722465725, 0.9243860067484384, 0.14358383356401846, 0.9885950793577233, 0.18209738165590095, 0.8791127988759563, 0.007817839630946313, 0.23339273189749749, 0.07323952047601444, 1.26560058283466, 0.16887091483139863, 0.2012650827559861, 0.4402275695131121, 0.3032459811753382, 0.6178317680740756, 0.5987674753959524, 1.0311257665212183, 0.863067793993543, 0.6640228298402211, 0.8865071349301927, 1.0728877493018762, 0.9830251656469737, 1.343611590764125, 0.07377386962588107, 1.0281230986171304, 0.35643876999815827, 1.5039968399385084, 0.39641055497483835, 0.6986954130975239, 0.06707120225097114, 0.08527263285326582, 0.27411239433826357, 0.15102507063151593, 0.7951455697616082, 0.37287525514448594, 0.28734580840290697, 1.2512568100056614, 1.3977883044494022], \"yaxis\": \"y\"}, {\"customdata\": [[\"AQP9\"], [\"CCL5\"], [\"CD14\"], [\"CD163\"], [\"CD244\"], [\"CD68\"], [\"CEBPB\"], [\"CXCL2\"], [\"EIF4EBP1\"], [\"FCAR\"], [\"FCGRT\"], [\"FCN1\"], [\"GZMA\"], [\"IFNGR2\"], [\"LILRA5\"], [\"LILRB4\"], [\"LYZ\"], [\"MYD88\"], [\"NCR1\"], [\"NKG7\"], [\"NLRP3\"], [\"NOD2\"], [\"THBS1\"], [\"TNFRSF1A\"], [\"TNFSF13\"], [\"TREM1\"]], \"hovertemplate\": \"Gene_Regulation=Up Regulated<br>log2_FC=%{x}<br>log10_p=%{y}<br>Gene=%{customdata[0]}<br>Label=%{text}<extra></extra>\", \"legendgroup\": \"Up Regulated\", \"marker\": {\"color\": \"green\", \"symbol\": \"circle\"}, \"mode\": \"markers+text\", \"name\": \"Up Regulated\", \"showlegend\": true, \"text\": [\"AQP9\", \"CCL5\", \"CD14\", \"CD163\", \"CD244\", \"CD68\", \"CEBPB\", \"CXCL2\", \"EIF4EBP1\", \"FCAR\", \"FCGRT\", \"FCN1\", \"GZMA\", \"IFNGR2\", \"LILRA5\", \"LILRB4\", \"LYZ\", \"MYD88\", \"NCR1\", \"NKG7\", \"NLRP3\", \"NOD2\", \"THBS1\", \"TNFRSF1A\", \"TNFSF13\", \"TREM1\"], \"textfont\": {\"size\": 10}, \"textposition\": \"top left\", \"type\": \"scatter\", \"x\": [4.920597269464151, 2.318069233580901, 6.077412391975287, 3.3460953186650992, 2.6933165662596075, 3.499566682346412, 2.4083872555343477, 1.6138170352094194, 1.6313108524444007, 4.693932321792844, 2.3262378662792433, 6.786550193996204, 2.271600213711211, 1.7288938493945938, 5.222321319238303, 1.8838745588367003, 4.69043553868017, 1.6089418725071993, 2.70999068503364, 3.340029994244325, 2.3328861842657953, 2.130614831286787, 5.553537578057138, 1.6611029695082487, 2.2792659047547232, 5.654993481053946], \"xaxis\": \"x\", \"y\": [1.5538555986766618, 1.625106333135125, 1.6030805735589322, 1.5546054243120353, 2.5740472478955567, 1.5443521913729636, 3.330175977198355, 2.4340914103590294, 1.9418859786204812, 1.6010823991564611, 2.054875928509846, 1.770992614070694, 1.7285886654302398, 2.7902852084468712, 1.6024167568086993, 1.834887296200141, 1.6593720320909209, 1.5545453265258866, 2.228473390739846, 1.511942241430361, 2.456721823417935, 1.535146162589917, 2.03032152608489, 2.37760665500258, 1.556091630445857, 1.6811936433760335], \"yaxis\": \"y\"}, {\"customdata\": [[\"CCND1\"], [\"CDH1\"], [\"CTLA4\"], [\"IL2\"], [\"IRF4\"]], \"hovertemplate\": \"Gene_Regulation=Down Regulated<br>log2_FC=%{x}<br>log10_p=%{y}<br>Gene=%{customdata[0]}<br>Label=%{text}<extra></extra>\", \"legendgroup\": \"Down Regulated\", \"marker\": {\"color\": \"red\", \"symbol\": \"circle\"}, \"mode\": \"markers+text\", \"name\": \"Down Regulated\", \"showlegend\": true, \"text\": [\"CCND1\", \"CDH1\", \"CTLA4\", \"IL2\", \"IRF4\"], \"textfont\": {\"size\": 10}, \"textposition\": \"top left\", \"type\": \"scatter\", \"x\": [-2.084459874106449, -1.6897412099000444, -2.1220611012799213, -2.149971404688752, -1.6339735343858455], \"xaxis\": \"x\", \"y\": [2.7555075525463577, 3.030502707878962, 1.9811296389284987, 2.1380088646361735, 1.6832439748380266], \"yaxis\": \"y\"}],\n",
       "                        {\"legend\": {\"title\": {\"text\": \"Gene_Regulation\"}, \"tracegroupgap\": 0}, \"template\": {\"data\": {\"bar\": [{\"error_x\": {\"color\": \"#2a3f5f\"}, \"error_y\": {\"color\": \"#2a3f5f\"}, \"marker\": {\"line\": {\"color\": \"#E5ECF6\", \"width\": 0.5}}, \"type\": \"bar\"}], \"barpolar\": [{\"marker\": {\"line\": {\"color\": \"#E5ECF6\", \"width\": 0.5}}, \"type\": \"barpolar\"}], \"carpet\": [{\"aaxis\": {\"endlinecolor\": \"#2a3f5f\", \"gridcolor\": \"white\", \"linecolor\": \"white\", \"minorgridcolor\": \"white\", \"startlinecolor\": \"#2a3f5f\"}, \"baxis\": {\"endlinecolor\": \"#2a3f5f\", \"gridcolor\": \"white\", \"linecolor\": \"white\", \"minorgridcolor\": \"white\", \"startlinecolor\": \"#2a3f5f\"}, \"type\": \"carpet\"}], \"choropleth\": [{\"colorbar\": {\"outlinewidth\": 0, \"ticks\": \"\"}, \"type\": \"choropleth\"}], \"contour\": [{\"colorbar\": {\"outlinewidth\": 0, \"ticks\": \"\"}, \"colorscale\": [[0.0, \"#0d0887\"], [0.1111111111111111, \"#46039f\"], [0.2222222222222222, \"#7201a8\"], [0.3333333333333333, \"#9c179e\"], [0.4444444444444444, \"#bd3786\"], [0.5555555555555556, \"#d8576b\"], [0.6666666666666666, \"#ed7953\"], [0.7777777777777778, \"#fb9f3a\"], [0.8888888888888888, \"#fdca26\"], [1.0, \"#f0f921\"]], \"type\": \"contour\"}], \"contourcarpet\": [{\"colorbar\": {\"outlinewidth\": 0, \"ticks\": \"\"}, \"type\": \"contourcarpet\"}], \"heatmap\": [{\"colorbar\": {\"outlinewidth\": 0, \"ticks\": \"\"}, \"colorscale\": [[0.0, \"#0d0887\"], [0.1111111111111111, \"#46039f\"], [0.2222222222222222, \"#7201a8\"], [0.3333333333333333, \"#9c179e\"], [0.4444444444444444, \"#bd3786\"], [0.5555555555555556, \"#d8576b\"], [0.6666666666666666, \"#ed7953\"], [0.7777777777777778, \"#fb9f3a\"], [0.8888888888888888, \"#fdca26\"], [1.0, \"#f0f921\"]], \"type\": \"heatmap\"}], \"heatmapgl\": [{\"colorbar\": {\"outlinewidth\": 0, \"ticks\": \"\"}, \"colorscale\": [[0.0, \"#0d0887\"], [0.1111111111111111, \"#46039f\"], [0.2222222222222222, \"#7201a8\"], [0.3333333333333333, \"#9c179e\"], [0.4444444444444444, \"#bd3786\"], [0.5555555555555556, \"#d8576b\"], [0.6666666666666666, \"#ed7953\"], [0.7777777777777778, \"#fb9f3a\"], [0.8888888888888888, \"#fdca26\"], [1.0, \"#f0f921\"]], \"type\": \"heatmapgl\"}], \"histogram\": [{\"marker\": {\"colorbar\": {\"outlinewidth\": 0, \"ticks\": \"\"}}, \"type\": \"histogram\"}], \"histogram2d\": [{\"colorbar\": {\"outlinewidth\": 0, \"ticks\": \"\"}, \"colorscale\": [[0.0, \"#0d0887\"], [0.1111111111111111, \"#46039f\"], [0.2222222222222222, \"#7201a8\"], [0.3333333333333333, \"#9c179e\"], [0.4444444444444444, \"#bd3786\"], [0.5555555555555556, \"#d8576b\"], [0.6666666666666666, \"#ed7953\"], [0.7777777777777778, \"#fb9f3a\"], [0.8888888888888888, \"#fdca26\"], [1.0, \"#f0f921\"]], \"type\": \"histogram2d\"}], \"histogram2dcontour\": [{\"colorbar\": {\"outlinewidth\": 0, \"ticks\": \"\"}, \"colorscale\": [[0.0, \"#0d0887\"], [0.1111111111111111, \"#46039f\"], [0.2222222222222222, \"#7201a8\"], [0.3333333333333333, \"#9c179e\"], [0.4444444444444444, \"#bd3786\"], [0.5555555555555556, \"#d8576b\"], [0.6666666666666666, \"#ed7953\"], [0.7777777777777778, \"#fb9f3a\"], [0.8888888888888888, \"#fdca26\"], [1.0, \"#f0f921\"]], \"type\": \"histogram2dcontour\"}], \"mesh3d\": [{\"colorbar\": {\"outlinewidth\": 0, \"ticks\": \"\"}, \"type\": \"mesh3d\"}], \"parcoords\": [{\"line\": {\"colorbar\": {\"outlinewidth\": 0, \"ticks\": \"\"}}, \"type\": \"parcoords\"}], \"pie\": [{\"automargin\": true, \"type\": \"pie\"}], \"scatter\": [{\"marker\": {\"colorbar\": {\"outlinewidth\": 0, \"ticks\": \"\"}}, \"type\": \"scatter\"}], \"scatter3d\": [{\"line\": {\"colorbar\": {\"outlinewidth\": 0, \"ticks\": \"\"}}, \"marker\": {\"colorbar\": {\"outlinewidth\": 0, \"ticks\": \"\"}}, \"type\": \"scatter3d\"}], \"scattercarpet\": [{\"marker\": {\"colorbar\": {\"outlinewidth\": 0, \"ticks\": \"\"}}, \"type\": \"scattercarpet\"}], \"scattergeo\": [{\"marker\": {\"colorbar\": {\"outlinewidth\": 0, \"ticks\": \"\"}}, \"type\": \"scattergeo\"}], \"scattergl\": [{\"marker\": {\"colorbar\": {\"outlinewidth\": 0, \"ticks\": \"\"}}, \"type\": \"scattergl\"}], \"scattermapbox\": [{\"marker\": {\"colorbar\": {\"outlinewidth\": 0, \"ticks\": \"\"}}, \"type\": \"scattermapbox\"}], \"scatterpolar\": [{\"marker\": {\"colorbar\": {\"outlinewidth\": 0, \"ticks\": \"\"}}, \"type\": \"scatterpolar\"}], \"scatterpolargl\": [{\"marker\": {\"colorbar\": {\"outlinewidth\": 0, \"ticks\": \"\"}}, \"type\": \"scatterpolargl\"}], \"scatterternary\": [{\"marker\": {\"colorbar\": {\"outlinewidth\": 0, \"ticks\": \"\"}}, \"type\": \"scatterternary\"}], \"surface\": [{\"colorbar\": {\"outlinewidth\": 0, \"ticks\": \"\"}, \"colorscale\": [[0.0, \"#0d0887\"], [0.1111111111111111, \"#46039f\"], [0.2222222222222222, \"#7201a8\"], [0.3333333333333333, \"#9c179e\"], [0.4444444444444444, \"#bd3786\"], [0.5555555555555556, \"#d8576b\"], [0.6666666666666666, \"#ed7953\"], [0.7777777777777778, \"#fb9f3a\"], [0.8888888888888888, \"#fdca26\"], [1.0, \"#f0f921\"]], \"type\": \"surface\"}], \"table\": [{\"cells\": {\"fill\": {\"color\": \"#EBF0F8\"}, \"line\": {\"color\": \"white\"}}, \"header\": {\"fill\": {\"color\": \"#C8D4E3\"}, \"line\": {\"color\": \"white\"}}, \"type\": \"table\"}]}, \"layout\": {\"annotationdefaults\": {\"arrowcolor\": \"#2a3f5f\", \"arrowhead\": 0, \"arrowwidth\": 1}, \"coloraxis\": {\"colorbar\": {\"outlinewidth\": 0, \"ticks\": \"\"}}, \"colorscale\": {\"diverging\": [[0, \"#8e0152\"], [0.1, \"#c51b7d\"], [0.2, \"#de77ae\"], [0.3, \"#f1b6da\"], [0.4, \"#fde0ef\"], [0.5, \"#f7f7f7\"], [0.6, \"#e6f5d0\"], [0.7, \"#b8e186\"], [0.8, \"#7fbc41\"], [0.9, \"#4d9221\"], [1, \"#276419\"]], \"sequential\": [[0.0, \"#0d0887\"], [0.1111111111111111, \"#46039f\"], [0.2222222222222222, \"#7201a8\"], [0.3333333333333333, \"#9c179e\"], [0.4444444444444444, \"#bd3786\"], [0.5555555555555556, \"#d8576b\"], [0.6666666666666666, \"#ed7953\"], [0.7777777777777778, \"#fb9f3a\"], [0.8888888888888888, \"#fdca26\"], [1.0, \"#f0f921\"]], \"sequentialminus\": [[0.0, \"#0d0887\"], [0.1111111111111111, \"#46039f\"], [0.2222222222222222, \"#7201a8\"], [0.3333333333333333, \"#9c179e\"], [0.4444444444444444, \"#bd3786\"], [0.5555555555555556, \"#d8576b\"], [0.6666666666666666, \"#ed7953\"], [0.7777777777777778, \"#fb9f3a\"], [0.8888888888888888, \"#fdca26\"], [1.0, \"#f0f921\"]]}, \"colorway\": [\"#636efa\", \"#EF553B\", \"#00cc96\", \"#ab63fa\", \"#FFA15A\", \"#19d3f3\", \"#FF6692\", \"#B6E880\", \"#FF97FF\", \"#FECB52\"], \"font\": {\"color\": \"#2a3f5f\"}, \"geo\": {\"bgcolor\": \"white\", \"lakecolor\": \"white\", \"landcolor\": \"#E5ECF6\", \"showlakes\": true, \"showland\": true, \"subunitcolor\": \"white\"}, \"hoverlabel\": {\"align\": \"left\"}, \"hovermode\": \"closest\", \"mapbox\": {\"style\": \"light\"}, \"paper_bgcolor\": \"white\", \"plot_bgcolor\": \"#E5ECF6\", \"polar\": {\"angularaxis\": {\"gridcolor\": \"white\", \"linecolor\": \"white\", \"ticks\": \"\"}, \"bgcolor\": \"#E5ECF6\", \"radialaxis\": {\"gridcolor\": \"white\", \"linecolor\": \"white\", \"ticks\": \"\"}}, \"scene\": {\"xaxis\": {\"backgroundcolor\": \"#E5ECF6\", \"gridcolor\": \"white\", \"gridwidth\": 2, \"linecolor\": \"white\", \"showbackground\": true, \"ticks\": \"\", \"zerolinecolor\": \"white\"}, \"yaxis\": {\"backgroundcolor\": \"#E5ECF6\", \"gridcolor\": \"white\", \"gridwidth\": 2, \"linecolor\": \"white\", \"showbackground\": true, \"ticks\": \"\", \"zerolinecolor\": \"white\"}, \"zaxis\": {\"backgroundcolor\": \"#E5ECF6\", \"gridcolor\": \"white\", \"gridwidth\": 2, \"linecolor\": \"white\", \"showbackground\": true, \"ticks\": \"\", \"zerolinecolor\": \"white\"}}, \"shapedefaults\": {\"line\": {\"color\": \"#2a3f5f\"}}, \"ternary\": {\"aaxis\": {\"gridcolor\": \"white\", \"linecolor\": \"white\", \"ticks\": \"\"}, \"baxis\": {\"gridcolor\": \"white\", \"linecolor\": \"white\", \"ticks\": \"\"}, \"bgcolor\": \"#E5ECF6\", \"caxis\": {\"gridcolor\": \"white\", \"linecolor\": \"white\", \"ticks\": \"\"}}, \"title\": {\"x\": 0.05}, \"xaxis\": {\"automargin\": true, \"gridcolor\": \"white\", \"linecolor\": \"white\", \"ticks\": \"\", \"title\": {\"standoff\": 15}, \"zerolinecolor\": \"white\", \"zerolinewidth\": 2}, \"yaxis\": {\"automargin\": true, \"gridcolor\": \"white\", \"linecolor\": \"white\", \"ticks\": \"\", \"title\": {\"standoff\": 15}, \"zerolinecolor\": \"white\", \"zerolinewidth\": 2}}}, \"title\": {\"text\": \"Nanostring mRNA Analysis of Blood Vs Lymph Node\"}, \"xaxis\": {\"anchor\": \"y\", \"domain\": [0.0, 1.0], \"title\": {\"text\": \"log2_FC\"}}, \"yaxis\": {\"anchor\": \"x\", \"domain\": [0.0, 1.0], \"title\": {\"text\": \"log10_p\"}}},\n",
       "                        {\"responsive\": true}\n",
       "                    ).then(function(){\n",
       "                            \n",
       "var gd = document.getElementById('ed7de206-6730-4aae-92f5-788c2fb5394d');\n",
       "var x = new MutationObserver(function (mutations, observer) {{\n",
       "        var display = window.getComputedStyle(gd).display;\n",
       "        if (!display || display === 'none') {{\n",
       "            console.log([gd, 'removed!']);\n",
       "            Plotly.purge(gd);\n",
       "            observer.disconnect();\n",
       "        }}\n",
       "}});\n",
       "\n",
       "// Listen for the removal of the full notebook cells\n",
       "var notebookContainer = gd.closest('#notebook-container');\n",
       "if (notebookContainer) {{\n",
       "    x.observe(notebookContainer, {childList: true});\n",
       "}}\n",
       "\n",
       "// Listen for the clearing of the current output cell\n",
       "var outputEl = gd.closest('.output');\n",
       "if (outputEl) {{\n",
       "    x.observe(outputEl, {childList: true});\n",
       "}}\n",
       "\n",
       "                        })\n",
       "                };\n",
       "                });\n",
       "            </script>\n",
       "        </div>"
      ]
     },
     "metadata": {},
     "output_type": "display_data"
    }
   ],
   "source": [
    "import plotly.express as px\n",
    "fig = px.scatter(vol, x=\"log2_FC\", y=\"log10_p\", hover_data=['Gene'], color=\"Gene_Regulation\", text='Label',color_discrete_sequence=[\"black\", \"green\", \"red\"]\n",
    "                ,title=\"Nanostring mRNA Analysis of Blood Vs Lymph Node\")\n",
    "fig.update_traces(textposition='top left',textfont_size=10)\n",
    "fig.show()"
   ]
  },
  {
   "cell_type": "code",
   "execution_count": 94,
   "metadata": {},
   "outputs": [],
   "source": [
    "fig.write_html('/Volumes/LabData/Utilities/Blood_v_LN_Volcano.html', auto_open = False)"
   ]
  },
  {
   "cell_type": "code",
   "execution_count": 95,
   "metadata": {},
   "outputs": [
    {
     "data": {
      "text/html": [
       "<div>\n",
       "<style scoped>\n",
       "    .dataframe tbody tr th:only-of-type {\n",
       "        vertical-align: middle;\n",
       "    }\n",
       "\n",
       "    .dataframe tbody tr th {\n",
       "        vertical-align: top;\n",
       "    }\n",
       "\n",
       "    .dataframe thead th {\n",
       "        text-align: right;\n",
       "    }\n",
       "</style>\n",
       "<table border=\"1\" class=\"dataframe\">\n",
       "  <thead>\n",
       "    <tr style=\"text-align: right;\">\n",
       "      <th></th>\n",
       "      <th>Gene</th>\n",
       "      <th>groupBlood_size</th>\n",
       "      <th>groupLN_size</th>\n",
       "      <th>groupBlood_mean</th>\n",
       "      <th>groupLN_mean</th>\n",
       "      <th>pvalue</th>\n",
       "      <th>FC</th>\n",
       "      <th>log2_FC</th>\n",
       "      <th>log10_p</th>\n",
       "      <th>Label</th>\n",
       "      <th>Gene_Regulation</th>\n",
       "    </tr>\n",
       "  </thead>\n",
       "  <tbody>\n",
       "    <tr>\n",
       "      <th>0</th>\n",
       "      <td>A2M</td>\n",
       "      <td>3</td>\n",
       "      <td>3</td>\n",
       "      <td>31.293317</td>\n",
       "      <td>48.370664</td>\n",
       "      <td>0.370317</td>\n",
       "      <td>0.646948</td>\n",
       "      <td>-0.628278</td>\n",
       "      <td>0.431426</td>\n",
       "      <td></td>\n",
       "      <td>Not Significant</td>\n",
       "    </tr>\n",
       "    <tr>\n",
       "      <th>1</th>\n",
       "      <td>ACVR1C</td>\n",
       "      <td>3</td>\n",
       "      <td>3</td>\n",
       "      <td>109.596135</td>\n",
       "      <td>123.091499</td>\n",
       "      <td>0.596828</td>\n",
       "      <td>0.890363</td>\n",
       "      <td>-0.167534</td>\n",
       "      <td>0.224151</td>\n",
       "      <td></td>\n",
       "      <td>Not Significant</td>\n",
       "    </tr>\n",
       "    <tr>\n",
       "      <th>2</th>\n",
       "      <td>ADAM12</td>\n",
       "      <td>3</td>\n",
       "      <td>3</td>\n",
       "      <td>31.395258</td>\n",
       "      <td>136.298632</td>\n",
       "      <td>0.150362</td>\n",
       "      <td>0.230342</td>\n",
       "      <td>-2.118153</td>\n",
       "      <td>0.822862</td>\n",
       "      <td></td>\n",
       "      <td>Not Significant</td>\n",
       "    </tr>\n",
       "    <tr>\n",
       "      <th>3</th>\n",
       "      <td>ADGRE1</td>\n",
       "      <td>3</td>\n",
       "      <td>3</td>\n",
       "      <td>667.626877</td>\n",
       "      <td>144.732757</td>\n",
       "      <td>0.191322</td>\n",
       "      <td>4.612825</td>\n",
       "      <td>2.205651</td>\n",
       "      <td>0.718236</td>\n",
       "      <td></td>\n",
       "      <td>Not Significant</td>\n",
       "    </tr>\n",
       "    <tr>\n",
       "      <th>4</th>\n",
       "      <td>ADM</td>\n",
       "      <td>3</td>\n",
       "      <td>3</td>\n",
       "      <td>332.618654</td>\n",
       "      <td>71.153039</td>\n",
       "      <td>0.153007</td>\n",
       "      <td>4.674694</td>\n",
       "      <td>2.224872</td>\n",
       "      <td>0.815289</td>\n",
       "      <td></td>\n",
       "      <td>Not Significant</td>\n",
       "    </tr>\n",
       "    <tr>\n",
       "      <th>...</th>\n",
       "      <td>...</td>\n",
       "      <td>...</td>\n",
       "      <td>...</td>\n",
       "      <td>...</td>\n",
       "      <td>...</td>\n",
       "      <td>...</td>\n",
       "      <td>...</td>\n",
       "      <td>...</td>\n",
       "      <td>...</td>\n",
       "      <td>...</td>\n",
       "      <td>...</td>\n",
       "    </tr>\n",
       "    <tr>\n",
       "      <th>745</th>\n",
       "      <td>XCL1/2</td>\n",
       "      <td>3</td>\n",
       "      <td>3</td>\n",
       "      <td>326.303492</td>\n",
       "      <td>719.508213</td>\n",
       "      <td>0.160271</td>\n",
       "      <td>0.453509</td>\n",
       "      <td>-1.140797</td>\n",
       "      <td>0.795146</td>\n",
       "      <td></td>\n",
       "      <td>Not Significant</td>\n",
       "    </tr>\n",
       "    <tr>\n",
       "      <th>746</th>\n",
       "      <td>ZAP70</td>\n",
       "      <td>3</td>\n",
       "      <td>3</td>\n",
       "      <td>2916.604747</td>\n",
       "      <td>3211.603012</td>\n",
       "      <td>0.423765</td>\n",
       "      <td>0.908146</td>\n",
       "      <td>-0.139004</td>\n",
       "      <td>0.372875</td>\n",
       "      <td></td>\n",
       "      <td>Not Significant</td>\n",
       "    </tr>\n",
       "    <tr>\n",
       "      <th>747</th>\n",
       "      <td>ZC3H12A</td>\n",
       "      <td>3</td>\n",
       "      <td>3</td>\n",
       "      <td>339.740074</td>\n",
       "      <td>284.105670</td>\n",
       "      <td>0.516005</td>\n",
       "      <td>1.195823</td>\n",
       "      <td>0.258004</td>\n",
       "      <td>0.287346</td>\n",
       "      <td></td>\n",
       "      <td>Not Significant</td>\n",
       "    </tr>\n",
       "    <tr>\n",
       "      <th>748</th>\n",
       "      <td>ZEB1</td>\n",
       "      <td>3</td>\n",
       "      <td>3</td>\n",
       "      <td>940.311393</td>\n",
       "      <td>1571.453121</td>\n",
       "      <td>0.056072</td>\n",
       "      <td>0.598371</td>\n",
       "      <td>-0.740889</td>\n",
       "      <td>1.251257</td>\n",
       "      <td></td>\n",
       "      <td>Not Significant</td>\n",
       "    </tr>\n",
       "    <tr>\n",
       "      <th>749</th>\n",
       "      <td>ZEB2</td>\n",
       "      <td>3</td>\n",
       "      <td>3</td>\n",
       "      <td>5472.198489</td>\n",
       "      <td>727.982371</td>\n",
       "      <td>0.040014</td>\n",
       "      <td>7.516938</td>\n",
       "      <td>2.910145</td>\n",
       "      <td>1.397788</td>\n",
       "      <td></td>\n",
       "      <td>Not Significant</td>\n",
       "    </tr>\n",
       "  </tbody>\n",
       "</table>\n",
       "<p>750 rows × 11 columns</p>\n",
       "</div>"
      ],
      "text/plain": [
       "        Gene  groupBlood_size  groupLN_size  groupBlood_mean  groupLN_mean  \\\n",
       "0        A2M                3             3        31.293317     48.370664   \n",
       "1     ACVR1C                3             3       109.596135    123.091499   \n",
       "2     ADAM12                3             3        31.395258    136.298632   \n",
       "3     ADGRE1                3             3       667.626877    144.732757   \n",
       "4        ADM                3             3       332.618654     71.153039   \n",
       "..       ...              ...           ...              ...           ...   \n",
       "745   XCL1/2                3             3       326.303492    719.508213   \n",
       "746    ZAP70                3             3      2916.604747   3211.603012   \n",
       "747  ZC3H12A                3             3       339.740074    284.105670   \n",
       "748     ZEB1                3             3       940.311393   1571.453121   \n",
       "749     ZEB2                3             3      5472.198489    727.982371   \n",
       "\n",
       "       pvalue        FC   log2_FC   log10_p Label  Gene_Regulation  \n",
       "0    0.370317  0.646948 -0.628278  0.431426        Not Significant  \n",
       "1    0.596828  0.890363 -0.167534  0.224151        Not Significant  \n",
       "2    0.150362  0.230342 -2.118153  0.822862        Not Significant  \n",
       "3    0.191322  4.612825  2.205651  0.718236        Not Significant  \n",
       "4    0.153007  4.674694  2.224872  0.815289        Not Significant  \n",
       "..        ...       ...       ...       ...   ...              ...  \n",
       "745  0.160271  0.453509 -1.140797  0.795146        Not Significant  \n",
       "746  0.423765  0.908146 -0.139004  0.372875        Not Significant  \n",
       "747  0.516005  1.195823  0.258004  0.287346        Not Significant  \n",
       "748  0.056072  0.598371 -0.740889  1.251257        Not Significant  \n",
       "749  0.040014  7.516938  2.910145  1.397788        Not Significant  \n",
       "\n",
       "[750 rows x 11 columns]"
      ]
     },
     "execution_count": 95,
     "metadata": {},
     "output_type": "execute_result"
    }
   ],
   "source": [
    "vol"
   ]
  },
  {
   "cell_type": "code",
   "execution_count": null,
   "metadata": {},
   "outputs": [],
   "source": []
  }
 ],
 "metadata": {
  "kernelspec": {
   "display_name": "Python 3",
   "language": "python",
   "name": "python3"
  },
  "language_info": {
   "codemirror_mode": {
    "name": "ipython",
    "version": 3
   },
   "file_extension": ".py",
   "mimetype": "text/x-python",
   "name": "python",
   "nbconvert_exporter": "python",
   "pygments_lexer": "ipython3",
   "version": "3.7.6"
  }
 },
 "nbformat": 4,
 "nbformat_minor": 4
}
